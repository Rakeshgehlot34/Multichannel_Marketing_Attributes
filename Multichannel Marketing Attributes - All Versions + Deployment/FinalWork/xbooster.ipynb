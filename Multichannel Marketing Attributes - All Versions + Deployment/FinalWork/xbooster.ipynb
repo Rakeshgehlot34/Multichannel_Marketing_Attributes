{
 "cells": [
  {
   "cell_type": "code",
   "execution_count": 1,
   "metadata": {},
   "outputs": [],
   "source": [
    "import pandas as pd"
   ]
  },
  {
   "cell_type": "code",
   "execution_count": 2,
   "metadata": {},
   "outputs": [],
   "source": [
    "df=pd.read_csv(\"labelencoded_train_df.csv\")"
   ]
  },
  {
   "cell_type": "code",
   "execution_count": 3,
   "metadata": {},
   "outputs": [],
   "source": [
    "from sklearn.metrics import mean_squared_error\n",
    "from sklearn.metrics import mean_squared_log_error\n",
    "import numpy as np"
   ]
  },
  {
   "cell_type": "code",
   "execution_count": 4,
   "metadata": {},
   "outputs": [],
   "source": [
    "from sklearn.preprocessing import MinMaxScaler"
   ]
  },
  {
   "cell_type": "code",
   "execution_count": 5,
   "metadata": {},
   "outputs": [],
   "source": [
    "df_scaled=df"
   ]
  },
  {
   "cell_type": "code",
   "execution_count": null,
   "metadata": {},
   "outputs": [],
   "source": []
  },
  {
   "cell_type": "code",
   "execution_count": 6,
   "metadata": {},
   "outputs": [],
   "source": [
    "from sklearn.model_selection import train_test_split"
   ]
  },
  {
   "cell_type": "code",
   "execution_count": 7,
   "metadata": {},
   "outputs": [],
   "source": [
    "import re\n",
    "df_scaled = df_scaled.rename(columns = lambda x:re.sub('[^A-Za-z0-9_]+', '', x))"
   ]
  },
  {
   "cell_type": "code",
   "execution_count": 8,
   "metadata": {},
   "outputs": [
    {
     "data": {
      "text/html": [
       "<div>\n",
       "<style scoped>\n",
       "    .dataframe tbody tr th:only-of-type {\n",
       "        vertical-align: middle;\n",
       "    }\n",
       "\n",
       "    .dataframe tbody tr th {\n",
       "        vertical-align: top;\n",
       "    }\n",
       "\n",
       "    .dataframe thead th {\n",
       "        text-align: right;\n",
       "    }\n",
       "</style>\n",
       "<table border=\"1\" class=\"dataframe\">\n",
       "  <thead>\n",
       "    <tr style=\"text-align: right;\">\n",
       "      <th></th>\n",
       "      <th>Unnamed0</th>\n",
       "      <th>visitNumber</th>\n",
       "      <th>visitId</th>\n",
       "      <th>visitStartTime</th>\n",
       "      <th>date</th>\n",
       "      <th>totalshits</th>\n",
       "      <th>totalspageviews</th>\n",
       "      <th>totalstimeOnSite</th>\n",
       "      <th>totalstransactions</th>\n",
       "      <th>totalstransactionRevenue</th>\n",
       "      <th>...</th>\n",
       "      <th>devicedeviceCategory</th>\n",
       "      <th>geoNetworkcontinent</th>\n",
       "      <th>geoNetworksubContinent</th>\n",
       "      <th>geoNetworkcountry</th>\n",
       "      <th>geoNetworkregion</th>\n",
       "      <th>geoNetworkmetro</th>\n",
       "      <th>geoNetworkcity</th>\n",
       "      <th>geoNetworknetworkDomain</th>\n",
       "      <th>fullVisitorId</th>\n",
       "      <th>channelGrouping</th>\n",
       "    </tr>\n",
       "  </thead>\n",
       "  <tbody>\n",
       "    <tr>\n",
       "      <th>0</th>\n",
       "      <td>0</td>\n",
       "      <td>1.0</td>\n",
       "      <td>1.470041e+09</td>\n",
       "      <td>1.470041e+09</td>\n",
       "      <td>20160801.0</td>\n",
       "      <td>1.0</td>\n",
       "      <td>1.0</td>\n",
       "      <td>0.0</td>\n",
       "      <td>0.0</td>\n",
       "      <td>0.0</td>\n",
       "      <td>...</td>\n",
       "      <td>0</td>\n",
       "      <td>2</td>\n",
       "      <td>9</td>\n",
       "      <td>215</td>\n",
       "      <td>374</td>\n",
       "      <td>12</td>\n",
       "      <td>824</td>\n",
       "      <td>26018</td>\n",
       "      <td>2.490000e+18</td>\n",
       "      <td>8</td>\n",
       "    </tr>\n",
       "    <tr>\n",
       "      <th>1</th>\n",
       "      <td>1</td>\n",
       "      <td>1.0</td>\n",
       "      <td>1.470046e+09</td>\n",
       "      <td>1.470046e+09</td>\n",
       "      <td>20160801.0</td>\n",
       "      <td>1.0</td>\n",
       "      <td>1.0</td>\n",
       "      <td>0.0</td>\n",
       "      <td>0.0</td>\n",
       "      <td>0.0</td>\n",
       "      <td>...</td>\n",
       "      <td>0</td>\n",
       "      <td>2</td>\n",
       "      <td>9</td>\n",
       "      <td>215</td>\n",
       "      <td>374</td>\n",
       "      <td>12</td>\n",
       "      <td>824</td>\n",
       "      <td>26018</td>\n",
       "      <td>9.290000e+17</td>\n",
       "      <td>8</td>\n",
       "    </tr>\n",
       "    <tr>\n",
       "      <th>2</th>\n",
       "      <td>2</td>\n",
       "      <td>1.0</td>\n",
       "      <td>1.470113e+09</td>\n",
       "      <td>1.470113e+09</td>\n",
       "      <td>20160801.0</td>\n",
       "      <td>1.0</td>\n",
       "      <td>1.0</td>\n",
       "      <td>0.0</td>\n",
       "      <td>0.0</td>\n",
       "      <td>0.0</td>\n",
       "      <td>...</td>\n",
       "      <td>0</td>\n",
       "      <td>2</td>\n",
       "      <td>9</td>\n",
       "      <td>215</td>\n",
       "      <td>374</td>\n",
       "      <td>12</td>\n",
       "      <td>824</td>\n",
       "      <td>26018</td>\n",
       "      <td>1.620000e+18</td>\n",
       "      <td>8</td>\n",
       "    </tr>\n",
       "    <tr>\n",
       "      <th>3</th>\n",
       "      <td>3</td>\n",
       "      <td>1.0</td>\n",
       "      <td>1.470163e+09</td>\n",
       "      <td>1.470163e+09</td>\n",
       "      <td>20160802.0</td>\n",
       "      <td>1.0</td>\n",
       "      <td>1.0</td>\n",
       "      <td>0.0</td>\n",
       "      <td>0.0</td>\n",
       "      <td>0.0</td>\n",
       "      <td>...</td>\n",
       "      <td>0</td>\n",
       "      <td>2</td>\n",
       "      <td>9</td>\n",
       "      <td>215</td>\n",
       "      <td>374</td>\n",
       "      <td>12</td>\n",
       "      <td>824</td>\n",
       "      <td>26018</td>\n",
       "      <td>7.210000e+18</td>\n",
       "      <td>8</td>\n",
       "    </tr>\n",
       "    <tr>\n",
       "      <th>4</th>\n",
       "      <td>4</td>\n",
       "      <td>1.0</td>\n",
       "      <td>1.470286e+09</td>\n",
       "      <td>1.470286e+09</td>\n",
       "      <td>20160803.0</td>\n",
       "      <td>1.0</td>\n",
       "      <td>1.0</td>\n",
       "      <td>0.0</td>\n",
       "      <td>0.0</td>\n",
       "      <td>0.0</td>\n",
       "      <td>...</td>\n",
       "      <td>0</td>\n",
       "      <td>2</td>\n",
       "      <td>9</td>\n",
       "      <td>215</td>\n",
       "      <td>374</td>\n",
       "      <td>12</td>\n",
       "      <td>824</td>\n",
       "      <td>26018</td>\n",
       "      <td>5.090000e+18</td>\n",
       "      <td>8</td>\n",
       "    </tr>\n",
       "    <tr>\n",
       "      <th>...</th>\n",
       "      <td>...</td>\n",
       "      <td>...</td>\n",
       "      <td>...</td>\n",
       "      <td>...</td>\n",
       "      <td>...</td>\n",
       "      <td>...</td>\n",
       "      <td>...</td>\n",
       "      <td>...</td>\n",
       "      <td>...</td>\n",
       "      <td>...</td>\n",
       "      <td>...</td>\n",
       "      <td>...</td>\n",
       "      <td>...</td>\n",
       "      <td>...</td>\n",
       "      <td>...</td>\n",
       "      <td>...</td>\n",
       "      <td>...</td>\n",
       "      <td>...</td>\n",
       "      <td>...</td>\n",
       "      <td>...</td>\n",
       "      <td>...</td>\n",
       "    </tr>\n",
       "    <tr>\n",
       "      <th>898304</th>\n",
       "      <td>898304</td>\n",
       "      <td>2.0</td>\n",
       "      <td>1.498456e+09</td>\n",
       "      <td>1.498456e+09</td>\n",
       "      <td>20170625.0</td>\n",
       "      <td>21.0</td>\n",
       "      <td>18.0</td>\n",
       "      <td>728.0</td>\n",
       "      <td>1.0</td>\n",
       "      <td>11970000.0</td>\n",
       "      <td>...</td>\n",
       "      <td>0</td>\n",
       "      <td>1</td>\n",
       "      <td>3</td>\n",
       "      <td>128</td>\n",
       "      <td>395</td>\n",
       "      <td>98</td>\n",
       "      <td>414</td>\n",
       "      <td>15234</td>\n",
       "      <td>7.400000e+18</td>\n",
       "      <td>7</td>\n",
       "    </tr>\n",
       "    <tr>\n",
       "      <th>898305</th>\n",
       "      <td>898305</td>\n",
       "      <td>2.0</td>\n",
       "      <td>1.498712e+09</td>\n",
       "      <td>1.498712e+09</td>\n",
       "      <td>20170628.0</td>\n",
       "      <td>32.0</td>\n",
       "      <td>24.0</td>\n",
       "      <td>1698.0</td>\n",
       "      <td>1.0</td>\n",
       "      <td>63070000.0</td>\n",
       "      <td>...</td>\n",
       "      <td>0</td>\n",
       "      <td>1</td>\n",
       "      <td>3</td>\n",
       "      <td>128</td>\n",
       "      <td>395</td>\n",
       "      <td>98</td>\n",
       "      <td>414</td>\n",
       "      <td>15234</td>\n",
       "      <td>2.780000e+17</td>\n",
       "      <td>7</td>\n",
       "    </tr>\n",
       "    <tr>\n",
       "      <th>898306</th>\n",
       "      <td>898306</td>\n",
       "      <td>2.0</td>\n",
       "      <td>1.498796e+09</td>\n",
       "      <td>1.498796e+09</td>\n",
       "      <td>20170629.0</td>\n",
       "      <td>9.0</td>\n",
       "      <td>9.0</td>\n",
       "      <td>830.0</td>\n",
       "      <td>1.0</td>\n",
       "      <td>46370000.0</td>\n",
       "      <td>...</td>\n",
       "      <td>0</td>\n",
       "      <td>1</td>\n",
       "      <td>3</td>\n",
       "      <td>128</td>\n",
       "      <td>395</td>\n",
       "      <td>98</td>\n",
       "      <td>414</td>\n",
       "      <td>15234</td>\n",
       "      <td>6.740000e+16</td>\n",
       "      <td>7</td>\n",
       "    </tr>\n",
       "    <tr>\n",
       "      <th>898307</th>\n",
       "      <td>898307</td>\n",
       "      <td>2.0</td>\n",
       "      <td>1.498842e+09</td>\n",
       "      <td>1.498842e+09</td>\n",
       "      <td>20170630.0</td>\n",
       "      <td>26.0</td>\n",
       "      <td>24.0</td>\n",
       "      <td>562.0</td>\n",
       "      <td>1.0</td>\n",
       "      <td>10390000.0</td>\n",
       "      <td>...</td>\n",
       "      <td>0</td>\n",
       "      <td>1</td>\n",
       "      <td>3</td>\n",
       "      <td>128</td>\n",
       "      <td>395</td>\n",
       "      <td>98</td>\n",
       "      <td>414</td>\n",
       "      <td>15234</td>\n",
       "      <td>4.700000e+18</td>\n",
       "      <td>7</td>\n",
       "    </tr>\n",
       "    <tr>\n",
       "      <th>898308</th>\n",
       "      <td>898308</td>\n",
       "      <td>2.0</td>\n",
       "      <td>1.498853e+09</td>\n",
       "      <td>1.498853e+09</td>\n",
       "      <td>20170630.0</td>\n",
       "      <td>28.0</td>\n",
       "      <td>22.0</td>\n",
       "      <td>1045.0</td>\n",
       "      <td>1.0</td>\n",
       "      <td>224670000.0</td>\n",
       "      <td>...</td>\n",
       "      <td>0</td>\n",
       "      <td>1</td>\n",
       "      <td>3</td>\n",
       "      <td>128</td>\n",
       "      <td>395</td>\n",
       "      <td>98</td>\n",
       "      <td>414</td>\n",
       "      <td>15234</td>\n",
       "      <td>6.590000e+17</td>\n",
       "      <td>7</td>\n",
       "    </tr>\n",
       "  </tbody>\n",
       "</table>\n",
       "<p>898309 rows × 29 columns</p>\n",
       "</div>"
      ],
      "text/plain": [
       "        Unnamed0  visitNumber       visitId  visitStartTime        date  \\\n",
       "0              0          1.0  1.470041e+09    1.470041e+09  20160801.0   \n",
       "1              1          1.0  1.470046e+09    1.470046e+09  20160801.0   \n",
       "2              2          1.0  1.470113e+09    1.470113e+09  20160801.0   \n",
       "3              3          1.0  1.470163e+09    1.470163e+09  20160802.0   \n",
       "4              4          1.0  1.470286e+09    1.470286e+09  20160803.0   \n",
       "...          ...          ...           ...             ...         ...   \n",
       "898304    898304          2.0  1.498456e+09    1.498456e+09  20170625.0   \n",
       "898305    898305          2.0  1.498712e+09    1.498712e+09  20170628.0   \n",
       "898306    898306          2.0  1.498796e+09    1.498796e+09  20170629.0   \n",
       "898307    898307          2.0  1.498842e+09    1.498842e+09  20170630.0   \n",
       "898308    898308          2.0  1.498853e+09    1.498853e+09  20170630.0   \n",
       "\n",
       "        totalshits  totalspageviews  totalstimeOnSite  totalstransactions  \\\n",
       "0              1.0              1.0               0.0                 0.0   \n",
       "1              1.0              1.0               0.0                 0.0   \n",
       "2              1.0              1.0               0.0                 0.0   \n",
       "3              1.0              1.0               0.0                 0.0   \n",
       "4              1.0              1.0               0.0                 0.0   \n",
       "...            ...              ...               ...                 ...   \n",
       "898304        21.0             18.0             728.0                 1.0   \n",
       "898305        32.0             24.0            1698.0                 1.0   \n",
       "898306         9.0              9.0             830.0                 1.0   \n",
       "898307        26.0             24.0             562.0                 1.0   \n",
       "898308        28.0             22.0            1045.0                 1.0   \n",
       "\n",
       "        totalstransactionRevenue  ...  devicedeviceCategory  \\\n",
       "0                            0.0  ...                     0   \n",
       "1                            0.0  ...                     0   \n",
       "2                            0.0  ...                     0   \n",
       "3                            0.0  ...                     0   \n",
       "4                            0.0  ...                     0   \n",
       "...                          ...  ...                   ...   \n",
       "898304                11970000.0  ...                     0   \n",
       "898305                63070000.0  ...                     0   \n",
       "898306                46370000.0  ...                     0   \n",
       "898307                10390000.0  ...                     0   \n",
       "898308               224670000.0  ...                     0   \n",
       "\n",
       "        geoNetworkcontinent  geoNetworksubContinent  geoNetworkcountry  \\\n",
       "0                         2                       9                215   \n",
       "1                         2                       9                215   \n",
       "2                         2                       9                215   \n",
       "3                         2                       9                215   \n",
       "4                         2                       9                215   \n",
       "...                     ...                     ...                ...   \n",
       "898304                    1                       3                128   \n",
       "898305                    1                       3                128   \n",
       "898306                    1                       3                128   \n",
       "898307                    1                       3                128   \n",
       "898308                    1                       3                128   \n",
       "\n",
       "        geoNetworkregion  geoNetworkmetro  geoNetworkcity  \\\n",
       "0                    374               12             824   \n",
       "1                    374               12             824   \n",
       "2                    374               12             824   \n",
       "3                    374               12             824   \n",
       "4                    374               12             824   \n",
       "...                  ...              ...             ...   \n",
       "898304               395               98             414   \n",
       "898305               395               98             414   \n",
       "898306               395               98             414   \n",
       "898307               395               98             414   \n",
       "898308               395               98             414   \n",
       "\n",
       "        geoNetworknetworkDomain  fullVisitorId  channelGrouping  \n",
       "0                         26018   2.490000e+18                8  \n",
       "1                         26018   9.290000e+17                8  \n",
       "2                         26018   1.620000e+18                8  \n",
       "3                         26018   7.210000e+18                8  \n",
       "4                         26018   5.090000e+18                8  \n",
       "...                         ...            ...              ...  \n",
       "898304                    15234   7.400000e+18                7  \n",
       "898305                    15234   2.780000e+17                7  \n",
       "898306                    15234   6.740000e+16                7  \n",
       "898307                    15234   4.700000e+18                7  \n",
       "898308                    15234   6.590000e+17                7  \n",
       "\n",
       "[898309 rows x 29 columns]"
      ]
     },
     "execution_count": 8,
     "metadata": {},
     "output_type": "execute_result"
    }
   ],
   "source": [
    "df_scaled"
   ]
  },
  {
   "cell_type": "code",
   "execution_count": 9,
   "metadata": {},
   "outputs": [
    {
     "data": {
      "text/plain": [
       "0         20160801.0\n",
       "1         20160801.0\n",
       "2         20160801.0\n",
       "3         20160802.0\n",
       "4         20160803.0\n",
       "             ...    \n",
       "898304    20170625.0\n",
       "898305    20170628.0\n",
       "898306    20170629.0\n",
       "898307    20170630.0\n",
       "898308    20170630.0\n",
       "Name: date, Length: 898309, dtype: float64"
      ]
     },
     "execution_count": 9,
     "metadata": {},
     "output_type": "execute_result"
    }
   ],
   "source": [
    "df[\"date\"]"
   ]
  },
  {
   "cell_type": "code",
   "execution_count": 10,
   "metadata": {},
   "outputs": [],
   "source": [
    "x=df_scaled.drop(\"totalstransactions\",axis=1)\n",
    "y=df_scaled[\"totalstransactions\"]"
   ]
  },
  {
   "cell_type": "code",
   "execution_count": 11,
   "metadata": {},
   "outputs": [],
   "source": [
    "x_train,x_test,y_train,y_test=train_test_split(x,y,random_state=101, test_size=.3)"
   ]
  },
  {
   "cell_type": "code",
   "execution_count": 12,
   "metadata": {},
   "outputs": [],
   "source": [
    "df_test=pd.read_csv(\"labelencoded_test_df.csv\")\n",
    "\n",
    "\n",
    "\n",
    "'''names=df_test.columns\n",
    "df_test_scaled=min_max_scaler.fit_transform(df_test)\n",
    "df_test_scaled=pd.DataFrame(df_test_scaled,columns=names)'''\n",
    "\n",
    "df_test_scaled=df_test\n",
    "\n",
    "df_test_scaled = df_test_scaled.rename(columns = lambda x:re.sub('[^A-Za-z0-9_]+', '', x))\n",
    "\n",
    "\n",
    "\n",
    "x_test1=df_test_scaled.drop(\"totalstransactions\",axis=1)\n",
    "y_test1=df_test_scaled[\"totalstransactions\"]"
   ]
  },
  {
   "cell_type": "markdown",
   "metadata": {},
   "source": [
    "## LIGHT GBM"
   ]
  },
  {
   "cell_type": "code",
   "execution_count": 13,
   "metadata": {},
   "outputs": [
    {
     "name": "stderr",
     "output_type": "stream",
     "text": [
      "C:\\Users\\hp\\Anaconda3\\lib\\site-packages\\dask\\dataframe\\utils.py:15: FutureWarning: pandas.util.testing is deprecated. Use the functions in the public API at pandas.testing instead.\n",
      "  import pandas.util.testing as tm\n"
     ]
    }
   ],
   "source": [
    "import lightgbm as lgb "
   ]
  },
  {
   "cell_type": "code",
   "execution_count": 14,
   "metadata": {},
   "outputs": [],
   "source": [
    "model = lgb.LGBMRegressor()"
   ]
  },
  {
   "cell_type": "code",
   "execution_count": 15,
   "metadata": {},
   "outputs": [
    {
     "data": {
      "text/plain": [
       "LGBMRegressor()"
      ]
     },
     "execution_count": 15,
     "metadata": {},
     "output_type": "execute_result"
    }
   ],
   "source": [
    "model.fit(x_train,y_train)"
   ]
  },
  {
   "cell_type": "code",
   "execution_count": 16,
   "metadata": {},
   "outputs": [],
   "source": [
    "pred_train=model.predict(x_train)"
   ]
  },
  {
   "cell_type": "code",
   "execution_count": 17,
   "metadata": {},
   "outputs": [
    {
     "name": "stdout",
     "output_type": "stream",
     "text": [
      "The rmsle of prediction is: 0.00948\n",
      "The rmse of prediction is :  0.033377688645246976\n"
     ]
    }
   ],
   "source": [
    "pred_train[pred_train < 0] = 0\n",
    "print('The rmsle of prediction is:', round(mean_squared_log_error(pred_train, y_train) ** 0.5, 5))\n",
    "print(\"The rmse of prediction is : \",np.sqrt(mean_squared_error(y_train, pred_train)))"
   ]
  },
  {
   "cell_type": "code",
   "execution_count": 18,
   "metadata": {},
   "outputs": [
    {
     "name": "stdout",
     "output_type": "stream",
     "text": [
      "0.001114070099299049\n"
     ]
    }
   ],
   "source": [
    "from sklearn.metrics import mean_squared_error\n",
    "rms_train_lgbm = mean_squared_error(y_train, pred_train)\n",
    "print(rms_train_lgbm)\n"
   ]
  },
  {
   "cell_type": "code",
   "execution_count": null,
   "metadata": {},
   "outputs": [],
   "source": []
  },
  {
   "cell_type": "code",
   "execution_count": 19,
   "metadata": {},
   "outputs": [],
   "source": [
    "from sklearn.metrics import r2_score\n",
    "r2_train_lgbm=r2_score(y_train, pred_train)\n"
   ]
  },
  {
   "cell_type": "code",
   "execution_count": 20,
   "metadata": {},
   "outputs": [],
   "source": [
    "pred_test=model.predict(x_test)"
   ]
  },
  {
   "cell_type": "code",
   "execution_count": 21,
   "metadata": {},
   "outputs": [
    {
     "name": "stdout",
     "output_type": "stream",
     "text": [
      "The rmsle of prediction is: 0.01348\n",
      "The rmse of prediction is :  0.05180507010448279\n"
     ]
    }
   ],
   "source": [
    "pred_test[pred_test < 0] = 0\n",
    "print('The rmsle of prediction is:', round(mean_squared_log_error(pred_test, y_test) ** 0.5, 5))\n",
    "print(\"The rmse of prediction is : \",np.sqrt(mean_squared_error(y_test, pred_test)))"
   ]
  },
  {
   "cell_type": "code",
   "execution_count": null,
   "metadata": {},
   "outputs": [],
   "source": []
  },
  {
   "cell_type": "code",
   "execution_count": 22,
   "metadata": {},
   "outputs": [],
   "source": [
    "pred_valid=model.predict(x_test1)"
   ]
  },
  {
   "cell_type": "code",
   "execution_count": 23,
   "metadata": {},
   "outputs": [
    {
     "name": "stdout",
     "output_type": "stream",
     "text": [
      "The rmsle of prediction is: 0.57964\n",
      "The rmse of prediction is :  0.8157221490686322\n"
     ]
    }
   ],
   "source": [
    "pred_valid[pred_valid < 0] = 0\n",
    "print('The rmsle of prediction is:', round(mean_squared_log_error(pred_valid, y_test1) ** 0.5, 5))\n",
    "print(\"The rmse of prediction is : \",np.sqrt(mean_squared_error(y_test1, pred_valid)))"
   ]
  },
  {
   "cell_type": "markdown",
   "metadata": {},
   "source": [
    "RMSLE - 0.815722 interprets \n",
    "if we calculate the value of $e^{(error)}$, we depict the variance the model is giving \n",
    "\n",
    "$e^{0.815722}$ = 2.22554\n",
    "\n",
    "hence this means , the variance of o/p could be +/- 2.22554 $"
   ]
  },
  {
   "cell_type": "markdown",
   "metadata": {},
   "source": [
    "## RANDOM FOREST REGRESSOR"
   ]
  },
  {
   "cell_type": "code",
   "execution_count": 24,
   "metadata": {},
   "outputs": [],
   "source": [
    "from sklearn.ensemble import RandomForestRegressor"
   ]
  },
  {
   "cell_type": "code",
   "execution_count": 25,
   "metadata": {},
   "outputs": [],
   "source": [
    "\n",
    "regressor  = RandomForestRegressor(n_estimators= 200,min_samples_split=5,min_samples_leaf= 4,max_features= 'sqrt',\n",
    "                                  max_depth=7,bootstrap= True,n_jobs=-1)"
   ]
  },
  {
   "cell_type": "code",
   "execution_count": 26,
   "metadata": {},
   "outputs": [],
   "source": [
    "tree_model=regressor.fit(x_train,y_train)"
   ]
  },
  {
   "cell_type": "code",
   "execution_count": 27,
   "metadata": {},
   "outputs": [],
   "source": [
    "t_pred=tree_model.predict(x_train)"
   ]
  },
  {
   "cell_type": "code",
   "execution_count": 28,
   "metadata": {},
   "outputs": [
    {
     "name": "stdout",
     "output_type": "stream",
     "text": [
      "The rmsle of prediction is: 0.01077\n",
      "The rmse of prediction is :  0.03970393682043219\n"
     ]
    }
   ],
   "source": [
    "t_pred[t_pred < 0] = 0\n",
    "print('The rmsle of prediction is:', round(mean_squared_log_error(t_pred, y_train) ** 0.5, 5))\n",
    "print(\"The rmse of prediction is : \",np.sqrt(mean_squared_error(y_train, t_pred)))"
   ]
  },
  {
   "cell_type": "code",
   "execution_count": 29,
   "metadata": {},
   "outputs": [],
   "source": [
    "tt_pred=tree_model.predict(x_test)"
   ]
  },
  {
   "cell_type": "code",
   "execution_count": 30,
   "metadata": {},
   "outputs": [
    {
     "name": "stdout",
     "output_type": "stream",
     "text": [
      "The rmsle of prediction is: 0.01195\n",
      "The rmse of prediction is :  0.050386553187130007\n"
     ]
    }
   ],
   "source": [
    "tt_pred[tt_pred < 0] = 0\n",
    "print('The rmsle of prediction is:', round(mean_squared_log_error(tt_pred, y_test) ** 0.5, 5))\n",
    "print(\"The rmse of prediction is : \",np.sqrt(mean_squared_error(y_test, tt_pred)))"
   ]
  },
  {
   "cell_type": "code",
   "execution_count": 31,
   "metadata": {},
   "outputs": [],
   "source": [
    "pred_v=tree_model.predict(x_test1)"
   ]
  },
  {
   "cell_type": "code",
   "execution_count": 32,
   "metadata": {},
   "outputs": [
    {
     "name": "stdout",
     "output_type": "stream",
     "text": [
      "The rmsle of prediction is: 0.22599\n",
      "The rmse of prediction is :  0.26458609406366074\n"
     ]
    }
   ],
   "source": [
    "pred_v[pred_v < 0] = 0\n",
    "print('The rmsle of prediction is:', round(mean_squared_log_error(pred_v, y_test1) ** 0.5, 5))\n",
    "print(\"The rmse of prediction is : \",np.sqrt(mean_squared_error(y_test1, pred_v)))"
   ]
  },
  {
   "cell_type": "markdown",
   "metadata": {},
   "source": [
    "RMSLE - 0.28030 interprets \n",
    "if we calculate the value of $e^{(error)}$, we depict the variance the model is giving \n",
    "\n",
    "$e^{0.28030}$ = 1.323129\n",
    "\n",
    "hence this means , the variance of o/p could be +/- 1.323129 $"
   ]
  },
  {
   "cell_type": "markdown",
   "metadata": {},
   "source": [
    "## sgdregrssor with pipeline\n"
   ]
  },
  {
   "cell_type": "code",
   "execution_count": 33,
   "metadata": {},
   "outputs": [
    {
     "data": {
      "text/plain": [
       "Pipeline(steps=[('standardscaler', StandardScaler()),\n",
       "                ('sgdregressor', SGDRegressor())])"
      ]
     },
     "execution_count": 33,
     "metadata": {},
     "output_type": "execute_result"
    }
   ],
   "source": [
    "import numpy as np\n",
    "from sklearn.linear_model import SGDRegressor\n",
    "from sklearn.pipeline import make_pipeline\n",
    "from sklearn.preprocessing import StandardScaler\n",
    "\n",
    "reg = make_pipeline(StandardScaler(),SGDRegressor(max_iter=1000, tol=1e-3))\n",
    "reg.fit(x_train,y_train)"
   ]
  },
  {
   "cell_type": "code",
   "execution_count": 34,
   "metadata": {},
   "outputs": [],
   "source": [
    "train=reg.predict(x_train)"
   ]
  },
  {
   "cell_type": "code",
   "execution_count": 35,
   "metadata": {},
   "outputs": [
    {
     "name": "stdout",
     "output_type": "stream",
     "text": [
      "The rmsle of prediction is: 0.06262\n",
      "The rmse of prediction is :  0.1230874069815487\n"
     ]
    }
   ],
   "source": [
    "train[train< 0] = 0\n",
    "print('The rmsle of prediction is:', round(mean_squared_log_error(train, y_train) ** 0.5, 5))\n",
    "print(\"The rmse of prediction is : \",np.sqrt(mean_squared_error(y_train, train)))"
   ]
  },
  {
   "cell_type": "code",
   "execution_count": 36,
   "metadata": {},
   "outputs": [],
   "source": [
    "test=reg.predict(x_test)"
   ]
  },
  {
   "cell_type": "code",
   "execution_count": 37,
   "metadata": {},
   "outputs": [
    {
     "name": "stdout",
     "output_type": "stream",
     "text": [
      "The rmsle of prediction is: 0.06322\n",
      "The rmse of prediction is :  0.12218996329674181\n"
     ]
    }
   ],
   "source": [
    "test[test< 0] = 0\n",
    "print('The rmsle of prediction is:', round(mean_squared_log_error(test, y_test) ** 0.5, 5))\n",
    "print(\"The rmse of prediction is : \",np.sqrt(mean_squared_error(y_test, test)))"
   ]
  },
  {
   "cell_type": "code",
   "execution_count": 38,
   "metadata": {},
   "outputs": [],
   "source": [
    "val=reg.predict(x_test1)"
   ]
  },
  {
   "cell_type": "code",
   "execution_count": 39,
   "metadata": {},
   "outputs": [
    {
     "name": "stdout",
     "output_type": "stream",
     "text": [
      "The rmsle of prediction is: 32.12254\n",
      "The rmse of prediction is :  172113084442310.28\n"
     ]
    }
   ],
   "source": [
    "val[val< 0] = 0\n",
    "print('The rmsle of prediction is:', round(mean_squared_log_error(val, y_test1) ** 0.5, 5))\n",
    "print(\"The rmse of prediction is : \",np.sqrt(mean_squared_error(y_test1, val)))"
   ]
  },
  {
   "cell_type": "markdown",
   "metadata": {},
   "source": [
    "SDG REGRESSOR MODEL PERFORMS REALLY WELL ON VALIDATION DATA WHERE RMSE HAS DECREASED FROM TRAINING DATA "
   ]
  },
  {
   "cell_type": "markdown",
   "metadata": {},
   "source": [
    "RMSLE - 0.13227 interprets \n",
    "if we calculate the value of $e^{(error)}$, we depict the variance the model is giving \n",
    "\n",
    "$e^{0.13227}$ = 1.14765\n",
    "\n",
    "hence this means , the variance of o/p could be +/- 1.14765 $"
   ]
  },
  {
   "cell_type": "markdown",
   "metadata": {},
   "source": [
    "## XGBOOSTER"
   ]
  },
  {
   "cell_type": "code",
   "execution_count": 40,
   "metadata": {},
   "outputs": [],
   "source": [
    "import xgboost as xg \n",
    "\n",
    "from sklearn.metrics import mean_squared_error as MSE\n",
    "from sklearn.metrics import r2_score\n",
    "from sklearn.model_selection import RandomizedSearchCV"
   ]
  },
  {
   "cell_type": "code",
   "execution_count": 41,
   "metadata": {},
   "outputs": [
    {
     "data": {
      "text/plain": [
       "XGBRegressor(base_score=0.5, booster='gbtree', colsample_bylevel=1,\n",
       "             colsample_bynode=1, colsample_bytree=1, gamma=0, gpu_id=-1,\n",
       "             importance_type='gain', interaction_constraints='',\n",
       "             learning_rate=0.3, max_delta_step=0, max_depth=6,\n",
       "             min_child_weight=1, missing=nan, monotone_constraints='()',\n",
       "             n_estimators=750, n_jobs=8, num_parallel_tree=1, random_state=0,\n",
       "             reg_alpha=0, reg_lambda=1, scale_pos_weight=1, subsample=1,\n",
       "             tree_method='exact', validate_parameters=1, verbosity=1)"
      ]
     },
     "execution_count": 41,
     "metadata": {},
     "output_type": "execute_result"
    }
   ],
   "source": [
    "model = xg.XGBRegressor(objective ='reg:squarederror', n_estimators = 750, verbosity=1, learning_rate=0.3)\n",
    "model.fit(x_train, y_train)"
   ]
  },
  {
   "cell_type": "code",
   "execution_count": 42,
   "metadata": {},
   "outputs": [
    {
     "name": "stdout",
     "output_type": "stream",
     "text": [
      "The rmsle of prediction is: 0.00037\n",
      "The rmse of prediction is :  0.0005609780389189218\n"
     ]
    }
   ],
   "source": [
    "prediction_train=model.predict(x_train)\n",
    "prediction_train[prediction_train< 0] = 0\n",
    "print('The rmsle of prediction is:', round(mean_squared_log_error(prediction_train, y_train) ** 0.5, 5))\n",
    "print(\"The rmse of prediction is : \",np.sqrt(mean_squared_error(y_train, prediction_train)))"
   ]
  },
  {
   "cell_type": "code",
   "execution_count": 43,
   "metadata": {},
   "outputs": [
    {
     "name": "stdout",
     "output_type": "stream",
     "text": [
      "The rmsle of prediction is: 0.01095\n",
      "The rmse of prediction is :  0.037291899804782626\n"
     ]
    }
   ],
   "source": [
    "prediction_test=model.predict(x_test)\n",
    "prediction_test[prediction_test< 0] = 0\n",
    "print('The rmsle of prediction is:', round(mean_squared_log_error(prediction_test, y_test) ** 0.5, 5))\n",
    "print(\"The rmse of prediction is : \",np.sqrt(mean_squared_error(y_test, prediction_test)))"
   ]
  },
  {
   "cell_type": "code",
   "execution_count": 44,
   "metadata": {},
   "outputs": [
    {
     "name": "stdout",
     "output_type": "stream",
     "text": [
      "The rmsle of prediction is: 1.18545\n",
      "The rmse of prediction is :  2.2856877889746765\n"
     ]
    }
   ],
   "source": [
    "prediction_val=model.predict(x_test1)\n",
    "prediction_val[prediction_val< 0] = 0\n",
    "print('The rmsle of prediction is:', round(mean_squared_log_error(prediction_val, y_test1) ** 0.5, 5))\n",
    "print(\"The rmse of prediction is : \",np.sqrt(mean_squared_error(y_test1, prediction_val)))"
   ]
  },
  {
   "cell_type": "markdown",
   "metadata": {},
   "source": [
    "THE RMSLE VALUE IS QUITE LESS IN PREDICTION DATASET AND DRASTICALLY INCREASE FOR VALIDATION SET SUGGESTS THAT THE MODEL IS OVERFITTED "
   ]
  },
  {
   "cell_type": "markdown",
   "metadata": {},
   "source": [
    "USUALLY BOOSTER MODELS HAVE TENDENCY TO OVERFIT THE DATA THIS CAN BE AVOIDED BY HYPER PARAMETER TUNING OF THE MODEL"
   ]
  },
  {
   "cell_type": "code",
   "execution_count": null,
   "metadata": {},
   "outputs": [],
   "source": []
  },
  {
   "cell_type": "code",
   "execution_count": 45,
   "metadata": {},
   "outputs": [],
   "source": [
    "from prettytable import PrettyTable"
   ]
  },
  {
   "cell_type": "code",
   "execution_count": 46,
   "metadata": {},
   "outputs": [
    {
     "name": "stdout",
     "output_type": "stream",
     "text": [
      "\n",
      "\n",
      "\n",
      "\n",
      "\n",
      "\n",
      "\n",
      "\n",
      "+----------+-----------------------------+-------------+--------------+------------+-------------+-------------+--------------+\n",
      "|   s.no   |            models           | RMSE(train) | RMSLE(train) | RMSE(test) | RMSLE(test) | RMSE(valid) | RMSLE(valid) |\n",
      "+----------+-----------------------------+-------------+--------------+------------+-------------+-------------+--------------+\n",
      "| Model-1: |                             |             |              |            |             |             |              |\n",
      "|          |     LightGBM REGRESSOR      |    0.3337   |    0.0094    |   0.5180   |    0.0134   |    0.8157   |    0.5796    |\n",
      "|          |                             |             |              |            |             |             |              |\n",
      "| Model-2: |                             |             |              |            |             |             |              |\n",
      "|          |   Random-forest REGRESSOR   |    0.0395   |    0.0108    |   0.0497   |    0.0119   |    0.2803   |   0.23966    |\n",
      "|          |                             |             |              |            |             |             |              |\n",
      "| Model-3: |                             |             |              |            |             |             |              |\n",
      "|          | SDG REGRESSOR WITH PIPELINE |    0.1689   |    0.0789    |   0.1625   |   0.07896   |    0.1322   |    0.0887    |\n",
      "|          |                             |             |              |            |             |             |              |\n",
      "| Model-4: |                             |             |              |            |             |             |              |\n",
      "|          |          XGBOOSTER          |    0.0056   |    0.0003    |  0.03729   |    0.0109   |    2.2856   |    1.1857    |\n",
      "+----------+-----------------------------+-------------+--------------+------------+-------------+-------------+--------------+\n"
     ]
    }
   ],
   "source": [
    "z = PrettyTable()\n",
    "\n",
    "z.field_names = [\"s.no\",\"models\", \"RMSE(train)\",\"RMSLE(train)\",\"RMSE(test)\",'RMSLE(test)',\"RMSE(valid)\",\"RMSLE(valid)\"]\n",
    "\n",
    "\n",
    "z.add_row([\"Model-1:\",\" \",\" \",\" \",\" \",\" \",\" \",\" \"])\n",
    "print('\\n')\n",
    "z.add_row([\"\",\"LightGBM REGRESSOR \",\"0.3337\",\"0.0094\",\"0.5180\",\"0.0134\",\"0.8157\",\"0.5796\"])\n",
    "\n",
    "z.add_row([\"\",\" \",\" \",\" \",\" \",\" \",\" \",\" \"])\n",
    "z.add_row([\"Model-2:\",\" \",\" \",\" \",\" \",\" \",\" \",\" \"])\n",
    "print('\\n')\n",
    "z.add_row([\"\",\"Random-forest REGRESSOR\",\"0.0395\",\"0.0108\",\"0.0497\",\"0.0119\",\"0.2803\",\"0.23966\"])\n",
    "\n",
    "\n",
    "z.add_row([\"\",\" \",\" \",\" \",\" \",\" \",\" \",\" \"])\n",
    "z.add_row([\"Model-3:\",\" \",\" \",\" \",\" \",\" \",\" \",\" \"])\n",
    "print('\\n')\n",
    "z.add_row([\"\",\"SDG REGRESSOR WITH PIPELINE\",\"0.1689\",\"0.0789\",\"0.1625\",\"0.07896\",\"0.1322\",\"0.0887\"])\n",
    "\n",
    "\n",
    "z.add_row([\"\",\" \",\" \",\" \",\" \",\" \",\" \",\" \"])\n",
    "z.add_row([\"Model-4:\",\" \",\" \",\" \",\" \",\" \",\" \",\" \"])\n",
    "print('\\n')\n",
    "z.add_row([\"\",\"XGBOOSTER\",\"0.0056\",\"0.0003\",\"0.03729\",\"0.0109\",\"2.2856\",\"1.1857\"])\n",
    "\n",
    "\n",
    "\n",
    "print(z)"
   ]
  },
  {
   "cell_type": "code",
   "execution_count": null,
   "metadata": {},
   "outputs": [],
   "source": []
  },
  {
   "cell_type": "code",
   "execution_count": null,
   "metadata": {},
   "outputs": [],
   "source": []
  },
  {
   "cell_type": "code",
   "execution_count": null,
   "metadata": {},
   "outputs": [],
   "source": []
  },
  {
   "cell_type": "markdown",
   "metadata": {},
   "source": [
    "## HYPER PARAMETER TUNING OF LIGHGBM MODEL\n"
   ]
  },
  {
   "cell_type": "code",
   "execution_count": 47,
   "metadata": {},
   "outputs": [
    {
     "name": "stdout",
     "output_type": "stream",
     "text": [
      "[LightGBM] [Warning] Unknown parameter: bagging_frequency\n",
      "Training until validation scores don't improve for 200 rounds\n",
      "[100]\tvalid_0's rmse: 0.0605532\n",
      "[200]\tvalid_0's rmse: 0.0392276\n",
      "[300]\tvalid_0's rmse: 0.0343932\n",
      "[400]\tvalid_0's rmse: 0.0332615\n",
      "[500]\tvalid_0's rmse: 0.0329566\n",
      "[600]\tvalid_0's rmse: 0.0329367\n",
      "[700]\tvalid_0's rmse: 0.0329219\n",
      "[800]\tvalid_0's rmse: 0.0328896\n",
      "[900]\tvalid_0's rmse: 0.0328754\n",
      "[1000]\tvalid_0's rmse: 0.0328781\n",
      "Did not meet early stopping. Best iteration is:\n",
      "[959]\tvalid_0's rmse: 0.0328591\n"
     ]
    }
   ],
   "source": [
    "from sklearn.model_selection import train_test_split\n",
    "import lightgbm as lgb\n",
    "\n",
    "X_train, X_test, y_train, y_test = train_test_split(x, y, test_size=0.3, random_state=123)\n",
    "\n",
    "params = {\n",
    "        \"objective\" : \"regression\",\n",
    "        \"metric\" : \"rmse\", \n",
    "        \"num_leaves\" : 30,\n",
    "        \"min_child_samples\" : 100,\n",
    "        \"learning_rate\" : 0.01,\n",
    "        \"bagging_fraction\" : 0.8,\n",
    "        \"feature_fraction\" : 0.5,\n",
    "        \"bagging_frequency\" : 5,\n",
    "        \"bagging_seed\" : 2018,\n",
    "        \"verbosity\" : -1\n",
    "    }\n",
    "\n",
    "lgb_train = lgb.Dataset(X_train, label=y_train)\n",
    "lgb_val = lgb.Dataset(X_test, label=y_test)\n",
    "\n",
    "\n",
    "model = lgb.train(params, lgb_train, 1000, valid_sets=[lgb_val], early_stopping_rounds=200, verbose_eval=100)\n",
    "    \n",
    "y_pred = model.predict(X_test, num_iteration=model.best_iteration)"
   ]
  },
  {
   "cell_type": "code",
   "execution_count": 48,
   "metadata": {},
   "outputs": [],
   "source": [
    "y_pred[y_pred < 0] = 0\n"
   ]
  },
  {
   "cell_type": "code",
   "execution_count": 49,
   "metadata": {},
   "outputs": [
    {
     "name": "stdout",
     "output_type": "stream",
     "text": [
      "The rmse of prediction is: 0.01267\n"
     ]
    }
   ],
   "source": [
    "print('The rmse of prediction is:', round(mean_squared_log_error(y_pred, y_test) ** 0.5, 5))"
   ]
  },
  {
   "cell_type": "code",
   "execution_count": null,
   "metadata": {},
   "outputs": [],
   "source": []
  },
  {
   "cell_type": "code",
   "execution_count": null,
   "metadata": {},
   "outputs": [],
   "source": []
  },
  {
   "cell_type": "code",
   "execution_count": null,
   "metadata": {},
   "outputs": [],
   "source": []
  },
  {
   "cell_type": "code",
   "execution_count": null,
   "metadata": {},
   "outputs": [],
   "source": []
  },
  {
   "cell_type": "code",
   "execution_count": null,
   "metadata": {},
   "outputs": [],
   "source": []
  },
  {
   "cell_type": "code",
   "execution_count": null,
   "metadata": {},
   "outputs": [],
   "source": []
  },
  {
   "cell_type": "code",
   "execution_count": null,
   "metadata": {},
   "outputs": [],
   "source": []
  },
  {
   "cell_type": "code",
   "execution_count": null,
   "metadata": {},
   "outputs": [],
   "source": []
  },
  {
   "cell_type": "code",
   "execution_count": null,
   "metadata": {},
   "outputs": [],
   "source": []
  },
  {
   "cell_type": "code",
   "execution_count": null,
   "metadata": {},
   "outputs": [],
   "source": []
  },
  {
   "cell_type": "code",
   "execution_count": null,
   "metadata": {},
   "outputs": [],
   "source": [
    "\n"
   ]
  },
  {
   "cell_type": "code",
   "execution_count": null,
   "metadata": {},
   "outputs": [],
   "source": []
  },
  {
   "cell_type": "code",
   "execution_count": null,
   "metadata": {},
   "outputs": [],
   "source": []
  }
 ],
 "metadata": {
  "kernelspec": {
   "display_name": "Python 3",
   "language": "python",
   "name": "python3"
  },
  "language_info": {
   "codemirror_mode": {
    "name": "ipython",
    "version": 3
   },
   "file_extension": ".py",
   "mimetype": "text/x-python",
   "name": "python",
   "nbconvert_exporter": "python",
   "pygments_lexer": "ipython3",
   "version": "3.7.4"
  }
 },
 "nbformat": 4,
 "nbformat_minor": 2
}
