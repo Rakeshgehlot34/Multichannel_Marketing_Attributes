{
 "cells": [
  {
   "cell_type": "code",
   "execution_count": 1,
   "metadata": {},
   "outputs": [],
   "source": [
    "import numpy as np\n",
    "import pandas as pd\n",
    "import matplotlib.pyplot as plt\n",
    "import seaborn as sns\n",
    "from sklearn import preprocessing"
   ]
  },
  {
   "cell_type": "code",
   "execution_count": 2,
   "metadata": {},
   "outputs": [
    {
     "name": "stderr",
     "output_type": "stream",
     "text": [
      "c:\\python37\\lib\\site-packages\\IPython\\core\\interactiveshell.py:3146: DtypeWarning: Columns (12,16,17,20) have mixed types.Specify dtype option on import or set low_memory=False.\n",
      "  interactivity=interactivity, compiler=compiler, result=result)\n"
     ]
    }
   ],
   "source": [
    "missing_values=['None',' None']\n",
    "df_train=pd.read_csv(\"train_multichannel_marketing_datasets.csv\",na_values=missing_values,encoding='ISO-8859-1')\n"
   ]
  },
  {
   "cell_type": "code",
   "execution_count": 3,
   "metadata": {},
   "outputs": [
    {
     "name": "stderr",
     "output_type": "stream",
     "text": [
      "c:\\python37\\lib\\site-packages\\IPython\\core\\interactiveshell.py:3146: DtypeWarning: Columns (3) have mixed types.Specify dtype option on import or set low_memory=False.\n",
      "  interactivity=interactivity, compiler=compiler, result=result)\n"
     ]
    }
   ],
   "source": [
    "df_test=pd.read_csv(\"test_multichannel_marketing_datasets.csv\",na_values=missing_values,encoding='ISO-8859-1')"
   ]
  },
  {
   "cell_type": "code",
   "execution_count": 4,
   "metadata": {},
   "outputs": [
    {
     "data": {
      "text/html": [
       "<div>\n",
       "<style scoped>\n",
       "    .dataframe tbody tr th:only-of-type {\n",
       "        vertical-align: middle;\n",
       "    }\n",
       "\n",
       "    .dataframe tbody tr th {\n",
       "        vertical-align: top;\n",
       "    }\n",
       "\n",
       "    .dataframe thead th {\n",
       "        text-align: right;\n",
       "    }\n",
       "</style>\n",
       "<table border=\"1\" class=\"dataframe\">\n",
       "  <thead>\n",
       "    <tr style=\"text-align: right;\">\n",
       "      <th></th>\n",
       "      <th>visitNumber</th>\n",
       "      <th>visitId</th>\n",
       "      <th>visitStartTime</th>\n",
       "      <th>date</th>\n",
       "      <th>visits</th>\n",
       "      <th>hit</th>\n",
       "      <th>Pageviews</th>\n",
       "      <th>timeOnSite</th>\n",
       "      <th>transactions</th>\n",
       "      <th>transactionRevenue</th>\n",
       "      <th>...</th>\n",
       "      <th>Continent</th>\n",
       "      <th>subContinent</th>\n",
       "      <th>country</th>\n",
       "      <th>region</th>\n",
       "      <th>metro</th>\n",
       "      <th>city</th>\n",
       "      <th>networkDomain</th>\n",
       "      <th>fullVisitorId</th>\n",
       "      <th>channelGrouping</th>\n",
       "      <th>socialEngagementType</th>\n",
       "    </tr>\n",
       "  </thead>\n",
       "  <tbody>\n",
       "    <tr>\n",
       "      <th>0</th>\n",
       "      <td>1.0</td>\n",
       "      <td>1.470041e+09</td>\n",
       "      <td>1.470041e+09</td>\n",
       "      <td>20160801.0</td>\n",
       "      <td>1.0</td>\n",
       "      <td>1.0</td>\n",
       "      <td>1.0</td>\n",
       "      <td>NaN</td>\n",
       "      <td>NaN</td>\n",
       "      <td>NaN</td>\n",
       "      <td>...</td>\n",
       "      <td>Asia</td>\n",
       "      <td>Southern Asia</td>\n",
       "      <td>India</td>\n",
       "      <td>not available in demo dataset</td>\n",
       "      <td>not available in demo dataset</td>\n",
       "      <td>not available in demo dataset</td>\n",
       "      <td>unknown.unknown</td>\n",
       "      <td>2.490000e+18</td>\n",
       "      <td>Social</td>\n",
       "      <td>Not Socially Engaged</td>\n",
       "    </tr>\n",
       "    <tr>\n",
       "      <th>1</th>\n",
       "      <td>1.0</td>\n",
       "      <td>1.470046e+09</td>\n",
       "      <td>1.470046e+09</td>\n",
       "      <td>20160801.0</td>\n",
       "      <td>1.0</td>\n",
       "      <td>1.0</td>\n",
       "      <td>1.0</td>\n",
       "      <td>NaN</td>\n",
       "      <td>NaN</td>\n",
       "      <td>NaN</td>\n",
       "      <td>...</td>\n",
       "      <td>Asia</td>\n",
       "      <td>Southern Asia</td>\n",
       "      <td>India</td>\n",
       "      <td>not available in demo dataset</td>\n",
       "      <td>not available in demo dataset</td>\n",
       "      <td>not available in demo dataset</td>\n",
       "      <td>unknown.unknown</td>\n",
       "      <td>9.290000e+17</td>\n",
       "      <td>Social</td>\n",
       "      <td>Not Socially Engaged</td>\n",
       "    </tr>\n",
       "    <tr>\n",
       "      <th>2</th>\n",
       "      <td>1.0</td>\n",
       "      <td>1.470113e+09</td>\n",
       "      <td>1.470113e+09</td>\n",
       "      <td>20160801.0</td>\n",
       "      <td>1.0</td>\n",
       "      <td>1.0</td>\n",
       "      <td>1.0</td>\n",
       "      <td>NaN</td>\n",
       "      <td>NaN</td>\n",
       "      <td>NaN</td>\n",
       "      <td>...</td>\n",
       "      <td>Asia</td>\n",
       "      <td>Southern Asia</td>\n",
       "      <td>India</td>\n",
       "      <td>not available in demo dataset</td>\n",
       "      <td>not available in demo dataset</td>\n",
       "      <td>not available in demo dataset</td>\n",
       "      <td>unknown.unknown</td>\n",
       "      <td>1.620000e+18</td>\n",
       "      <td>Social</td>\n",
       "      <td>Not Socially Engaged</td>\n",
       "    </tr>\n",
       "    <tr>\n",
       "      <th>3</th>\n",
       "      <td>1.0</td>\n",
       "      <td>1.470163e+09</td>\n",
       "      <td>1.470163e+09</td>\n",
       "      <td>20160802.0</td>\n",
       "      <td>1.0</td>\n",
       "      <td>1.0</td>\n",
       "      <td>1.0</td>\n",
       "      <td>NaN</td>\n",
       "      <td>NaN</td>\n",
       "      <td>NaN</td>\n",
       "      <td>...</td>\n",
       "      <td>Asia</td>\n",
       "      <td>Southern Asia</td>\n",
       "      <td>India</td>\n",
       "      <td>not available in demo dataset</td>\n",
       "      <td>not available in demo dataset</td>\n",
       "      <td>not available in demo dataset</td>\n",
       "      <td>unknown.unknown</td>\n",
       "      <td>7.210000e+18</td>\n",
       "      <td>Social</td>\n",
       "      <td>Not Socially Engaged</td>\n",
       "    </tr>\n",
       "    <tr>\n",
       "      <th>4</th>\n",
       "      <td>1.0</td>\n",
       "      <td>1.470286e+09</td>\n",
       "      <td>1.470286e+09</td>\n",
       "      <td>20160803.0</td>\n",
       "      <td>1.0</td>\n",
       "      <td>1.0</td>\n",
       "      <td>1.0</td>\n",
       "      <td>NaN</td>\n",
       "      <td>NaN</td>\n",
       "      <td>NaN</td>\n",
       "      <td>...</td>\n",
       "      <td>Asia</td>\n",
       "      <td>Southern Asia</td>\n",
       "      <td>India</td>\n",
       "      <td>not available in demo dataset</td>\n",
       "      <td>not available in demo dataset</td>\n",
       "      <td>not available in demo dataset</td>\n",
       "      <td>unknown.unknown</td>\n",
       "      <td>5.090000e+18</td>\n",
       "      <td>Social</td>\n",
       "      <td>Not Socially Engaged</td>\n",
       "    </tr>\n",
       "  </tbody>\n",
       "</table>\n",
       "<p>5 rows × 32 columns</p>\n",
       "</div>"
      ],
      "text/plain": [
       "   visitNumber       visitId  visitStartTime        date  visits  hit  \\\n",
       "0          1.0  1.470041e+09    1.470041e+09  20160801.0     1.0  1.0   \n",
       "1          1.0  1.470046e+09    1.470046e+09  20160801.0     1.0  1.0   \n",
       "2          1.0  1.470113e+09    1.470113e+09  20160801.0     1.0  1.0   \n",
       "3          1.0  1.470163e+09    1.470163e+09  20160802.0     1.0  1.0   \n",
       "4          1.0  1.470286e+09    1.470286e+09  20160803.0     1.0  1.0   \n",
       "\n",
       "   Pageviews  timeOnSite  transactions  transactionRevenue  ...  Continent  \\\n",
       "0        1.0         NaN           NaN                 NaN  ...       Asia   \n",
       "1        1.0         NaN           NaN                 NaN  ...       Asia   \n",
       "2        1.0         NaN           NaN                 NaN  ...       Asia   \n",
       "3        1.0         NaN           NaN                 NaN  ...       Asia   \n",
       "4        1.0         NaN           NaN                 NaN  ...       Asia   \n",
       "\n",
       "    subContinent country                         region  \\\n",
       "0  Southern Asia   India  not available in demo dataset   \n",
       "1  Southern Asia   India  not available in demo dataset   \n",
       "2  Southern Asia   India  not available in demo dataset   \n",
       "3  Southern Asia   India  not available in demo dataset   \n",
       "4  Southern Asia   India  not available in demo dataset   \n",
       "\n",
       "                           metro                           city  \\\n",
       "0  not available in demo dataset  not available in demo dataset   \n",
       "1  not available in demo dataset  not available in demo dataset   \n",
       "2  not available in demo dataset  not available in demo dataset   \n",
       "3  not available in demo dataset  not available in demo dataset   \n",
       "4  not available in demo dataset  not available in demo dataset   \n",
       "\n",
       "     networkDomain fullVisitorId channelGrouping  socialEngagementType  \n",
       "0  unknown.unknown  2.490000e+18          Social  Not Socially Engaged  \n",
       "1  unknown.unknown  9.290000e+17          Social  Not Socially Engaged  \n",
       "2  unknown.unknown  1.620000e+18          Social  Not Socially Engaged  \n",
       "3  unknown.unknown  7.210000e+18          Social  Not Socially Engaged  \n",
       "4  unknown.unknown  5.090000e+18          Social  Not Socially Engaged  \n",
       "\n",
       "[5 rows x 32 columns]"
      ]
     },
     "execution_count": 4,
     "metadata": {},
     "output_type": "execute_result"
    }
   ],
   "source": [
    "df_train.head()"
   ]
  },
  {
   "cell_type": "code",
   "execution_count": 5,
   "metadata": {},
   "outputs": [
    {
     "data": {
      "text/plain": [
       "Index(['visitNumber', 'visitId', 'visitStartTime', 'date', 'visits', 'hit',\n",
       "       'Pageviews', 'timeOnSite', 'transactions', 'transactionRevenue',\n",
       "       'totalTransactionRevenue', 'sessionQualityDim', 'referralPath',\n",
       "       'campaign', 'source', 'medium', 'keyword', 'adContent', 'browser',\n",
       "       'operatingSystem', 'isMobile', 'deviceCategory', 'Continent',\n",
       "       'subContinent', 'country', 'region', 'metro', 'city', 'networkDomain',\n",
       "       'fullVisitorId', 'channelGrouping', 'socialEngagementType'],\n",
       "      dtype='object')"
      ]
     },
     "execution_count": 5,
     "metadata": {},
     "output_type": "execute_result"
    }
   ],
   "source": [
    "df_train.columns"
   ]
  },
  {
   "cell_type": "code",
   "execution_count": 6,
   "metadata": {},
   "outputs": [
    {
     "data": {
      "text/plain": [
       "visitNumber                   364\n",
       "visitId                       364\n",
       "visitStartTime                364\n",
       "date                          364\n",
       "visits                        364\n",
       "hit                           364\n",
       "Pageviews                     463\n",
       "timeOnSite                 448932\n",
       "transactions               886836\n",
       "transactionRevenue         886872\n",
       "totalTransactionRevenue    886872\n",
       "sessionQualityDim          832486\n",
       "referralPath               569298\n",
       "campaign                      382\n",
       "source                        364\n",
       "medium                        364\n",
       "keyword                    658564\n",
       "adContent                  887240\n",
       "browser                       364\n",
       "operatingSystem               364\n",
       "isMobile                      364\n",
       "deviceCategory                364\n",
       "Continent                     364\n",
       "subContinent                  364\n",
       "country                       364\n",
       "region                        364\n",
       "metro                         364\n",
       "city                          364\n",
       "networkDomain                 364\n",
       "fullVisitorId                 365\n",
       "channelGrouping             71814\n",
       "socialEngagementType            2\n",
       "dtype: int64"
      ]
     },
     "execution_count": 6,
     "metadata": {},
     "output_type": "execute_result"
    }
   ],
   "source": [
    "df_train.isnull().sum()"
   ]
  },
  {
   "cell_type": "code",
   "execution_count": 7,
   "metadata": {},
   "outputs": [
    {
     "name": "stdout",
     "output_type": "stream",
     "text": [
      "(898309, 32)\n",
      "(401589, 30)\n"
     ]
    }
   ],
   "source": [
    "print(df_train.shape)\n",
    "print(df_test.shape)"
   ]
  },
  {
   "cell_type": "code",
   "execution_count": 8,
   "metadata": {},
   "outputs": [
    {
     "name": "stdout",
     "output_type": "stream",
     "text": [
      "<class 'pandas.core.frame.DataFrame'>\n",
      "RangeIndex: 898309 entries, 0 to 898308\n",
      "Data columns (total 32 columns):\n",
      " #   Column                   Non-Null Count   Dtype  \n",
      "---  ------                   --------------   -----  \n",
      " 0   visitNumber              897945 non-null  float64\n",
      " 1   visitId                  897945 non-null  float64\n",
      " 2   visitStartTime           897945 non-null  float64\n",
      " 3   date                     897945 non-null  float64\n",
      " 4   visits                   897945 non-null  float64\n",
      " 5   hit                      897945 non-null  float64\n",
      " 6   Pageviews                897846 non-null  float64\n",
      " 7   timeOnSite               449377 non-null  float64\n",
      " 8   transactions             11473 non-null   float64\n",
      " 9   transactionRevenue       11437 non-null   float64\n",
      " 10  totalTransactionRevenue  11437 non-null   float64\n",
      " 11  sessionQualityDim        65823 non-null   float64\n",
      " 12  referralPath             329011 non-null  object \n",
      " 13  campaign                 897927 non-null  object \n",
      " 14  source                   897945 non-null  object \n",
      " 15  medium                   897945 non-null  object \n",
      " 16  keyword                  239745 non-null  object \n",
      " 17  adContent                11069 non-null   object \n",
      " 18  browser                  897945 non-null  object \n",
      " 19  operatingSystem          897945 non-null  object \n",
      " 20  isMobile                 897945 non-null  object \n",
      " 21  deviceCategory           897945 non-null  object \n",
      " 22  Continent                897945 non-null  object \n",
      " 23  subContinent             897945 non-null  object \n",
      " 24  country                  897945 non-null  object \n",
      " 25  region                   897945 non-null  object \n",
      " 26  metro                    897945 non-null  object \n",
      " 27  city                     897945 non-null  object \n",
      " 28  networkDomain            897945 non-null  object \n",
      " 29  fullVisitorId            897944 non-null  float64\n",
      " 30  channelGrouping          826495 non-null  object \n",
      " 31  socialEngagementType     898307 non-null  object \n",
      "dtypes: float64(13), object(19)\n",
      "memory usage: 219.3+ MB\n"
     ]
    }
   ],
   "source": [
    "df_train.info()"
   ]
  },
  {
   "cell_type": "markdown",
   "metadata": {},
   "source": [
    "# Feature Engineering"
   ]
  },
  {
   "cell_type": "code",
   "execution_count": 9,
   "metadata": {},
   "outputs": [
    {
     "data": {
      "text/plain": [
       "array(['Not Socially Engaged', 'Social', 'Referral', 'Organic Search',\n",
       "       'Affiliates', 'Direct', 'Display', 'Paid Search', nan, '(Other)',\n",
       "       'channelGrouping', 'socialEngagementType'], dtype=object)"
      ]
     },
     "execution_count": 9,
     "metadata": {},
     "output_type": "execute_result"
    }
   ],
   "source": [
    "df_train.socialEngagementType.unique()"
   ]
  },
  {
   "cell_type": "code",
   "execution_count": 10,
   "metadata": {},
   "outputs": [
    {
     "data": {
      "text/plain": [
       "array([ 1., nan])"
      ]
     },
     "execution_count": 10,
     "metadata": {},
     "output_type": "execute_result"
    }
   ],
   "source": [
    "df_train.visits.unique()"
   ]
  },
  {
   "cell_type": "code",
   "execution_count": 11,
   "metadata": {},
   "outputs": [
    {
     "data": {
      "text/plain": [
       "array([  1.,  nan,   2.,   3.,   6.,   4.,  18.,  23.,  16.,  21.,   9.,\n",
       "        13.,  25.,  37.,  11.,  33.,  14.,   8.,  15.,   7.,  22.,  12.,\n",
       "        10.,  17.,  28.,   5.,  19.,  46., 139.,  20.,  51.,  82.,  63.,\n",
       "        31.,  26.,  29.,  42.,  24.,  34.,  36.,  71.,  86.,  35.,  43.,\n",
       "        47.,  27.,  41.,  38.,  85.,  55.,  54., 117.,  32.,  70.,  30.,\n",
       "        48.,  58.,  53.,  75.,  98.,  40.,  39.,  59.,  65.,  56.,  50.,\n",
       "        44.,  52.,  89.,  80.,  45.,  49.,  61.,  93.,  66.,  78.,  68.,\n",
       "       128.,  57.,  76., 189., 141.,  62.,  60.,  64., 125.,  73., 101.,\n",
       "       104.,  77.,  72.,  97.,  67.,  69., 124., 103., 147., 119., 107.,\n",
       "        91.,  79.,  92.,  83., 156., 108., 341., 154.,  88., 202.,  99.,\n",
       "       190., 193., 113.,  74., 333.,  84.,  81.,  95., 145., 148., 185.,\n",
       "       224., 169.,  90., 146., 100., 179., 121., 110., 111., 102.,  96.,\n",
       "       133., 197., 136., 126., 118., 106., 249., 219., 132., 173., 165.,\n",
       "       340., 130., 112., 134., 166., 162., 143.,  87., 201., 186., 175.,\n",
       "       168., 167., 135., 116., 144., 140., 131., 188., 138., 123., 105.,\n",
       "       114., 109., 150., 161., 324.,  94., 127., 245., 300., 220., 275.,\n",
       "       199., 429., 327., 142., 176., 210., 223., 115., 164., 153., 183.,\n",
       "       122., 137., 195., 174., 191., 351., 323., 431., 309., 215., 129.,\n",
       "       233., 120., 151., 469., 182., 400., 358., 149., 196., 466., 343.,\n",
       "       232., 208., 270., 305.])"
      ]
     },
     "execution_count": 11,
     "metadata": {},
     "output_type": "execute_result"
    }
   ],
   "source": [
    "df_train.Pageviews.unique()"
   ]
  },
  {
   "cell_type": "code",
   "execution_count": 12,
   "metadata": {},
   "outputs": [
    {
     "data": {
      "text/plain": [
       "array(['(not set)', 'Data Share Promo', 'Data Share',\n",
       "       'AW - Dynamic Search Ads Whole Site', 'AW - Accessories',\n",
       "       'AW - Electronics', 'AW - Apparel', 'All Products', nan, ','],\n",
       "      dtype=object)"
      ]
     },
     "execution_count": 12,
     "metadata": {},
     "output_type": "execute_result"
    }
   ],
   "source": [
    "df_train.campaign.unique()"
   ]
  },
  {
   "cell_type": "code",
   "execution_count": 13,
   "metadata": {},
   "outputs": [],
   "source": [
    "df_test.drop(['Unnamed: 0'],inplace=True,axis=1)"
   ]
  },
  {
   "cell_type": "markdown",
   "metadata": {},
   "source": [
    "**Check Columns for test dataset**\n",
    ">- Drop Unnamed column as it is not necessary"
   ]
  },
  {
   "cell_type": "code",
   "execution_count": 14,
   "metadata": {},
   "outputs": [
    {
     "data": {
      "text/plain": [
       "Index(['channelGrouping', 'date', 'fullVisitorId', 'visitId', 'visitNumber',\n",
       "       'visitStartTime', 'device.browser', 'device.operatingSystem',\n",
       "       'device.isMobile', 'device.deviceCategory', 'geoNetwork.continent',\n",
       "       'geoNetwork.subContinent', 'geoNetwork.country', 'geoNetwork.region',\n",
       "       'geoNetwork.metro', 'geoNetwork.city', 'geoNetwork.networkDomain',\n",
       "       'totals.hits', 'totals.pageviews', 'totals.timeOnSite',\n",
       "       'totals.sessionQualityDim', 'totals.transactions',\n",
       "       'totals.transactionRevenue', 'trafficSource.referralPath',\n",
       "       'trafficSource.campaign', 'trafficSource.source',\n",
       "       'trafficSource.medium', 'trafficSource.keyword',\n",
       "       'trafficSource.adContent'],\n",
       "      dtype='object')"
      ]
     },
     "execution_count": 14,
     "metadata": {},
     "output_type": "execute_result"
    }
   ],
   "source": [
    "df_test.columns"
   ]
  },
  {
   "cell_type": "code",
   "execution_count": 15,
   "metadata": {},
   "outputs": [],
   "source": [
    "df_train.drop(['visits','totalTransactionRevenue','socialEngagementType'],inplace=True,axis=1)"
   ]
  },
  {
   "cell_type": "markdown",
   "metadata": {},
   "source": [
    "**Check Columns for train dataset**\n",
    ">- Drop Visits column as it denotes \"the convenience of a session. It is 1 if the session is convenient otherwise 0\" which is not that useful as we have sessionqualitydim column which gives better values instead of this column \n",
    ">- Drop socialEngagementType column as it contains similar values like in channelGrouping and source columns so To avoid the redundancy in dataset we drop\n",
    ">- Drop totalTransactionRevenue it is also similar to TransactionRevenue"
   ]
  },
  {
   "cell_type": "code",
   "execution_count": 16,
   "metadata": {},
   "outputs": [
    {
     "data": {
      "text/plain": [
       "Index(['visitNumber', 'visitId', 'visitStartTime', 'date', 'hit', 'Pageviews',\n",
       "       'timeOnSite', 'transactions', 'transactionRevenue', 'sessionQualityDim',\n",
       "       'referralPath', 'campaign', 'source', 'medium', 'keyword', 'adContent',\n",
       "       'browser', 'operatingSystem', 'isMobile', 'deviceCategory', 'Continent',\n",
       "       'subContinent', 'country', 'region', 'metro', 'city', 'networkDomain',\n",
       "       'fullVisitorId', 'channelGrouping'],\n",
       "      dtype='object')"
      ]
     },
     "execution_count": 16,
     "metadata": {},
     "output_type": "execute_result"
    }
   ],
   "source": [
    "df_train.columns"
   ]
  },
  {
   "cell_type": "markdown",
   "metadata": {},
   "source": [
    "##### Rename the features"
   ]
  },
  {
   "cell_type": "code",
   "execution_count": 17,
   "metadata": {},
   "outputs": [],
   "source": [
    "df_train = df_train.rename(columns={\"sessionQualityDim\":\"totals.sessionQualityDim\",\"timeOnSite\":\"totals.timeOnSite\",\"transactions\":\"totals.transactions\",\n",
    "                                   \"transactionRevenue\":\"totals.transactionRevenue\",'hit':'totals.hits','Pageviews':'totals.pageviews',\"keyword\":\"trafficSource.keyword\",\n",
    "                                   \"referralPath\":\"trafficSource.referralPath\",\"adContent\":\"trafficSource.adContent\",\"campaign\":\"trafficSource.campaign\",\"source\":\"trafficSource.source\",\n",
    "                                    \"medium\":\"trafficSource.medium\",'browser':'device.browser','operatingSystem':'device.operatingSystem',\n",
    "                                   'isMobile':'device.isMobile','deviceCategory':'device.deviceCategory',\n",
    "                                   'Continent':'geoNetwork.continent','subContinent':'geoNetwork.subContinent','country':'geoNetwork.country',\n",
    "                                   'region':'geoNetwork.region','metro':'geoNetwork.metro','city':'geoNetwork.city','networkDomain':'geoNetwork.networkDomain'})"
   ]
  },
  {
   "cell_type": "code",
   "execution_count": 18,
   "metadata": {},
   "outputs": [
    {
     "name": "stdout",
     "output_type": "stream",
     "text": [
      "<class 'pandas.core.frame.DataFrame'>\n",
      "RangeIndex: 898309 entries, 0 to 898308\n",
      "Data columns (total 29 columns):\n",
      " #   Column                      Non-Null Count   Dtype  \n",
      "---  ------                      --------------   -----  \n",
      " 0   visitNumber                 897945 non-null  float64\n",
      " 1   visitId                     897945 non-null  float64\n",
      " 2   visitStartTime              897945 non-null  float64\n",
      " 3   date                        897945 non-null  float64\n",
      " 4   totals.hits                 897945 non-null  float64\n",
      " 5   totals.pageviews            897846 non-null  float64\n",
      " 6   totals.timeOnSite           449377 non-null  float64\n",
      " 7   totals.transactions         11473 non-null   float64\n",
      " 8   totals.transactionRevenue   11437 non-null   float64\n",
      " 9   totals.sessionQualityDim    65823 non-null   float64\n",
      " 10  trafficSource.referralPath  329011 non-null  object \n",
      " 11  trafficSource.campaign      897927 non-null  object \n",
      " 12  trafficSource.source        897945 non-null  object \n",
      " 13  trafficSource.medium        897945 non-null  object \n",
      " 14  trafficSource.keyword       239745 non-null  object \n",
      " 15  trafficSource.adContent     11069 non-null   object \n",
      " 16  device.browser              897945 non-null  object \n",
      " 17  device.operatingSystem      897945 non-null  object \n",
      " 18  device.isMobile             897945 non-null  object \n",
      " 19  device.deviceCategory       897945 non-null  object \n",
      " 20  geoNetwork.continent        897945 non-null  object \n",
      " 21  geoNetwork.subContinent     897945 non-null  object \n",
      " 22  geoNetwork.country          897945 non-null  object \n",
      " 23  geoNetwork.region           897945 non-null  object \n",
      " 24  geoNetwork.metro            897945 non-null  object \n",
      " 25  geoNetwork.city             897945 non-null  object \n",
      " 26  geoNetwork.networkDomain    897945 non-null  object \n",
      " 27  fullVisitorId               897944 non-null  float64\n",
      " 28  channelGrouping             826495 non-null  object \n",
      "dtypes: float64(11), object(18)\n",
      "memory usage: 198.8+ MB\n"
     ]
    }
   ],
   "source": [
    "df_train.info()"
   ]
  },
  {
   "cell_type": "markdown",
   "metadata": {},
   "source": [
    "**Convert  Boolean type**\n",
    ">- isMobile has value True or False so we can convert them into bool type"
   ]
  },
  {
   "cell_type": "code",
   "execution_count": 19,
   "metadata": {},
   "outputs": [],
   "source": [
    "df_train['device.isMobile'] = df_train['device.isMobile'].astype(bool)\n",
    "df_test['device.isMobile']  = df_test['device.isMobile'].astype(bool)"
   ]
  },
  {
   "cell_type": "code",
   "execution_count": 20,
   "metadata": {},
   "outputs": [
    {
     "data": {
      "text/plain": [
       "Index(['totals.pageviews', 'totals.transactions', 'totals.transactionRevenue'], dtype='object')"
      ]
     },
     "execution_count": 20,
     "metadata": {},
     "output_type": "execute_result"
    }
   ],
   "source": [
    "num_feat=df_test.select_dtypes(include='float64').columns\n",
    "num_feat"
   ]
  },
  {
   "cell_type": "code",
   "execution_count": 21,
   "metadata": {},
   "outputs": [
    {
     "name": "stdout",
     "output_type": "stream",
     "text": [
      "<class 'pandas.core.frame.DataFrame'>\n",
      "RangeIndex: 401589 entries, 0 to 401588\n",
      "Data columns (total 29 columns):\n",
      " #   Column                      Non-Null Count   Dtype  \n",
      "---  ------                      --------------   -----  \n",
      " 0   channelGrouping             401589 non-null  object \n",
      " 1   date                        401589 non-null  int64  \n",
      " 2   fullVisitorId               401589 non-null  object \n",
      " 3   visitId                     401589 non-null  int64  \n",
      " 4   visitNumber                 401589 non-null  int64  \n",
      " 5   visitStartTime              401589 non-null  int64  \n",
      " 6   device.browser              401589 non-null  object \n",
      " 7   device.operatingSystem      401589 non-null  object \n",
      " 8   device.isMobile             401589 non-null  bool   \n",
      " 9   device.deviceCategory       401589 non-null  object \n",
      " 10  geoNetwork.continent        401589 non-null  object \n",
      " 11  geoNetwork.subContinent     401589 non-null  object \n",
      " 12  geoNetwork.country          401589 non-null  object \n",
      " 13  geoNetwork.region           401589 non-null  object \n",
      " 14  geoNetwork.metro            401589 non-null  object \n",
      " 15  geoNetwork.city             401589 non-null  object \n",
      " 16  geoNetwork.networkDomain    401589 non-null  object \n",
      " 17  totals.hits                 401589 non-null  int64  \n",
      " 18  totals.pageviews            401488 non-null  float64\n",
      " 19  totals.timeOnSite           401589 non-null  int64  \n",
      " 20  totals.sessionQualityDim    401589 non-null  int64  \n",
      " 21  totals.transactions         6305 non-null    float64\n",
      " 22  totals.transactionRevenue   4594 non-null    float64\n",
      " 23  trafficSource.referralPath  401589 non-null  object \n",
      " 24  trafficSource.campaign      401589 non-null  object \n",
      " 25  trafficSource.source        401589 non-null  object \n",
      " 26  trafficSource.medium        401589 non-null  object \n",
      " 27  trafficSource.keyword       361363 non-null  object \n",
      " 28  trafficSource.adContent     401589 non-null  object \n",
      "dtypes: bool(1), float64(3), int64(7), object(18)\n",
      "memory usage: 86.2+ MB\n"
     ]
    }
   ],
   "source": [
    "df_test.info()"
   ]
  },
  {
   "cell_type": "markdown",
   "metadata": {},
   "source": [
    "**Convert numeric features to float** <br>\n",
    "Numeric Features:\n",
    ">- date\n",
    ">- visitId\n",
    ">- visitNumber\n",
    ">- visitStartTime\n",
    ">- totals.hits\n",
    ">- totals.timeOnSite\n",
    ">- totals.sessionQualityDim"
   ]
  },
  {
   "cell_type": "code",
   "execution_count": 22,
   "metadata": {},
   "outputs": [],
   "source": [
    "num_feat_test=['date', 'visitId', 'visitNumber', 'visitStartTime', 'totals.hits',\n",
    "       'totals.timeOnSite', 'totals.sessionQualityDim','fullVisitorId']\n",
    "for col in num_feat_test:    \n",
    "    df_test[col] = df_test[col].astype('float')"
   ]
  },
  {
   "cell_type": "code",
   "execution_count": 23,
   "metadata": {},
   "outputs": [
    {
     "name": "stdout",
     "output_type": "stream",
     "text": [
      "<class 'pandas.core.frame.DataFrame'>\n",
      "RangeIndex: 401589 entries, 0 to 401588\n",
      "Data columns (total 29 columns):\n",
      " #   Column                      Non-Null Count   Dtype  \n",
      "---  ------                      --------------   -----  \n",
      " 0   channelGrouping             401589 non-null  object \n",
      " 1   date                        401589 non-null  float64\n",
      " 2   fullVisitorId               401589 non-null  float64\n",
      " 3   visitId                     401589 non-null  float64\n",
      " 4   visitNumber                 401589 non-null  float64\n",
      " 5   visitStartTime              401589 non-null  float64\n",
      " 6   device.browser              401589 non-null  object \n",
      " 7   device.operatingSystem      401589 non-null  object \n",
      " 8   device.isMobile             401589 non-null  bool   \n",
      " 9   device.deviceCategory       401589 non-null  object \n",
      " 10  geoNetwork.continent        401589 non-null  object \n",
      " 11  geoNetwork.subContinent     401589 non-null  object \n",
      " 12  geoNetwork.country          401589 non-null  object \n",
      " 13  geoNetwork.region           401589 non-null  object \n",
      " 14  geoNetwork.metro            401589 non-null  object \n",
      " 15  geoNetwork.city             401589 non-null  object \n",
      " 16  geoNetwork.networkDomain    401589 non-null  object \n",
      " 17  totals.hits                 401589 non-null  float64\n",
      " 18  totals.pageviews            401488 non-null  float64\n",
      " 19  totals.timeOnSite           401589 non-null  float64\n",
      " 20  totals.sessionQualityDim    401589 non-null  float64\n",
      " 21  totals.transactions         6305 non-null    float64\n",
      " 22  totals.transactionRevenue   4594 non-null    float64\n",
      " 23  trafficSource.referralPath  401589 non-null  object \n",
      " 24  trafficSource.campaign      401589 non-null  object \n",
      " 25  trafficSource.source        401589 non-null  object \n",
      " 26  trafficSource.medium        401589 non-null  object \n",
      " 27  trafficSource.keyword       361363 non-null  object \n",
      " 28  trafficSource.adContent     401589 non-null  object \n",
      "dtypes: bool(1), float64(11), object(17)\n",
      "memory usage: 86.2+ MB\n"
     ]
    }
   ],
   "source": [
    "df_test.info()"
   ]
  },
  {
   "cell_type": "markdown",
   "metadata": {},
   "source": [
    "**Fill null values of numeric features with 0**"
   ]
  },
  {
   "cell_type": "code",
   "execution_count": 24,
   "metadata": {},
   "outputs": [],
   "source": [
    "numeric_feat=['date', 'fullVisitorId', 'visitId', 'visitNumber', 'visitStartTime',\n",
    "       'totals.hits', 'totals.pageviews', 'totals.timeOnSite',\n",
    "       'totals.sessionQualityDim', 'totals.transactions',\n",
    "       'totals.transactionRevenue']\n",
    "\n",
    "for col in numeric_feat:\n",
    "    df_train[col].fillna(0,inplace=True)    \n",
    "    df_test[col].fillna(0,inplace=True)"
   ]
  },
  {
   "cell_type": "code",
   "execution_count": 25,
   "metadata": {},
   "outputs": [
    {
     "data": {
      "text/plain": [
       "visitNumber                        0\n",
       "visitId                            0\n",
       "visitStartTime                     0\n",
       "date                               0\n",
       "totals.hits                        0\n",
       "totals.pageviews                   0\n",
       "totals.timeOnSite                  0\n",
       "totals.transactions                0\n",
       "totals.transactionRevenue          0\n",
       "totals.sessionQualityDim           0\n",
       "trafficSource.referralPath    569298\n",
       "trafficSource.campaign           382\n",
       "trafficSource.source             364\n",
       "trafficSource.medium             364\n",
       "trafficSource.keyword         658564\n",
       "trafficSource.adContent       887240\n",
       "device.browser                   364\n",
       "device.operatingSystem           364\n",
       "device.isMobile                    0\n",
       "device.deviceCategory            364\n",
       "geoNetwork.continent             364\n",
       "geoNetwork.subContinent          364\n",
       "geoNetwork.country               364\n",
       "geoNetwork.region                364\n",
       "geoNetwork.metro                 364\n",
       "geoNetwork.city                  364\n",
       "geoNetwork.networkDomain         364\n",
       "fullVisitorId                      0\n",
       "channelGrouping                71814\n",
       "dtype: int64"
      ]
     },
     "execution_count": 25,
     "metadata": {},
     "output_type": "execute_result"
    }
   ],
   "source": [
    "df_train.isnull().sum()"
   ]
  },
  {
   "cell_type": "code",
   "execution_count": 26,
   "metadata": {},
   "outputs": [
    {
     "data": {
      "text/plain": [
       "array(['desktop', 'mobile', 'tablet', nan], dtype=object)"
      ]
     },
     "execution_count": 26,
     "metadata": {},
     "output_type": "execute_result"
    }
   ],
   "source": [
    "df_train['device.deviceCategory'].unique()\n",
    "#impute ',' &'nan' in source\n",
    "#impute '(none)' &'nan','(not set)' in medium\n",
    "#impute ',' &'nan' &'(not set)' in campaign\n",
    "#impute '0' &'nan' &'(not set)' in browser\n",
    "#impute 'nan' &'(not set)' in OS\n",
    "#impute 'nan' in deiceCat"
   ]
  },
  {
   "cell_type": "code",
   "execution_count": 27,
   "metadata": {},
   "outputs": [],
   "source": [
    "df_train['trafficSource.keyword'].replace(['nan','NaN','(not provided)'], 'others',inplace=True)\n",
    "df_train['trafficSource.keyword'].fillna('others', inplace=True)"
   ]
  },
  {
   "cell_type": "code",
   "execution_count": 28,
   "metadata": {},
   "outputs": [],
   "source": [
    "df_test['trafficSource.keyword'].replace(['nan','NaN','(not provided)'], 'others',inplace=True)\n",
    "df_test['trafficSource.keyword'].fillna('others', inplace=True)"
   ]
  },
  {
   "cell_type": "code",
   "execution_count": 29,
   "metadata": {},
   "outputs": [],
   "source": [
    "df_train['trafficSource.source'].replace(['nan','NaN',','], 'others',inplace=True)\n",
    "df_train['trafficSource.source'].fillna('others', inplace=True)\n",
    "df_test['trafficSource.source'].replace(['nan','NaN',','], 'others',inplace=True)\n",
    "df_test['trafficSource.source'].fillna('others', inplace=True)"
   ]
  },
  {
   "cell_type": "code",
   "execution_count": 30,
   "metadata": {},
   "outputs": [],
   "source": [
    "df_train['trafficSource.medium'].replace(['nan','NaN','(not set)','(none)'], 'others',inplace=True)\n",
    "df_train['trafficSource.medium'].fillna('others', inplace=True)\n",
    "df_test['trafficSource.medium'].replace(['nan','NaN','(not set)','(none)'], 'others',inplace=True)\n",
    "df_test['trafficSource.medium'].fillna('others', inplace=True)"
   ]
  },
  {
   "cell_type": "code",
   "execution_count": 31,
   "metadata": {},
   "outputs": [],
   "source": [
    "df_train['trafficSource.campaign'].replace(['nan','NaN','(not set)',','], 'others',inplace=True)\n",
    "df_train['trafficSource.campaign'].fillna('others', inplace=True)\n",
    "df_test['trafficSource.campaign'].replace(['nan','NaN','(not set)',','], 'others',inplace=True)\n",
    "df_test['trafficSource.campaign'].fillna('others', inplace=True)"
   ]
  },
  {
   "cell_type": "code",
   "execution_count": 32,
   "metadata": {},
   "outputs": [],
   "source": [
    "df_train['device.browser'].replace(['nan','NaN','(not set)','0'], 'others',inplace=True)\n",
    "df_train['device.browser'].fillna('others', inplace=True)\n",
    "df_test['device.browser'].replace(['nan','NaN','(not set)','0'], 'others',inplace=True)\n",
    "df_test['device.browser'].fillna('others', inplace=True)"
   ]
  },
  {
   "cell_type": "code",
   "execution_count": 33,
   "metadata": {},
   "outputs": [],
   "source": [
    "df_train['device.operatingSystem'].replace(['nan','NaN','(not set)'], 'others',inplace=True)\n",
    "df_train['device.operatingSystem'].fillna('others', inplace=True)\n",
    "df_test['device.operatingSystem'].replace(['nan','NaN','(not set)'], 'others',inplace=True)\n",
    "df_test['device.operatingSystem'].fillna('others', inplace=True)"
   ]
  },
  {
   "cell_type": "code",
   "execution_count": 34,
   "metadata": {},
   "outputs": [],
   "source": [
    "df_train['device.deviceCategory'].replace(['nan','NaN'], 'others',inplace=True)\n",
    "df_train['device.deviceCategory'].fillna('others', inplace=True)\n",
    "df_test['device.deviceCategory'].replace(['nan','NaN'], 'others',inplace=True)\n",
    "df_test['device.deviceCategory'].fillna('others', inplace=True)"
   ]
  },
  {
   "cell_type": "code",
   "execution_count": 35,
   "metadata": {},
   "outputs": [],
   "source": [
    "df_train['geoNetwork.continent'].replace(['nan','NaN','(not set)'], 'others',inplace=True)\n",
    "df_train['geoNetwork.continent'].fillna('others', inplace=True)\n",
    "df_test['geoNetwork.continent'].replace(['nan','NaN','(not set)'], 'others',inplace=True)\n",
    "df_test['geoNetwork.continent'].fillna('others', inplace=True)"
   ]
  },
  {
   "cell_type": "code",
   "execution_count": 36,
   "metadata": {},
   "outputs": [],
   "source": [
    "df_train['geoNetwork.subContinent'].replace(['nan','NaN','(not set)'], 'others',inplace=True)\n",
    "df_train['geoNetwork.subContinent'].fillna('others', inplace=True)\n",
    "df_test['geoNetwork.subContinent'].replace(['nan','NaN','(not set)'], 'others',inplace=True)\n",
    "df_test['geoNetwork.subContinent'].fillna('others', inplace=True)"
   ]
  },
  {
   "cell_type": "code",
   "execution_count": 37,
   "metadata": {},
   "outputs": [],
   "source": [
    "df_train['geoNetwork.country'].replace(['nan','NaN','(not set)'], 'others',inplace=True)\n",
    "df_train['geoNetwork.country'].fillna('others', inplace=True)\n",
    "df_test['geoNetwork.country'].replace(['nan','NaN','(not set)'], 'others',inplace=True)\n",
    "df_test['geoNetwork.country'].fillna('others', inplace=True)"
   ]
  },
  {
   "cell_type": "code",
   "execution_count": 38,
   "metadata": {},
   "outputs": [],
   "source": [
    "df_train['geoNetwork.region'].replace(['nan','NaN','(not set)'], 'others',inplace=True)\n",
    "df_train['geoNetwork.region'].fillna('others', inplace=True)\n",
    "df_test['geoNetwork.region'].replace(['nan','NaN','(not set)'], 'others',inplace=True)\n",
    "df_test['geoNetwork.region'].fillna('others', inplace=True)"
   ]
  },
  {
   "cell_type": "code",
   "execution_count": 43,
   "metadata": {},
   "outputs": [],
   "source": [
    "df_train['geoNetwork.metro'].replace(['nan','NaN','(not set)'], 'others',inplace=True)\n",
    "df_train['geoNetwork.metro'].fillna('others', inplace=True)\n",
    "df_test['geoNetwork.metro'].replace(['nan','NaN','(not set)'], 'others',inplace=True)\n",
    "df_test['geoNetwork.metro'].fillna('others', inplace=True)"
   ]
  },
  {
   "cell_type": "code",
   "execution_count": 47,
   "metadata": {},
   "outputs": [],
   "source": [
    "df_train['geoNetwork.city'].replace(['nan','NaN','(not set)'], 'others',inplace=True)\n",
    "df_train['geoNetwork.city'].fillna('others', inplace=True)\n",
    "df_test['geoNetwork.city'].replace(['nan','NaN','(not set)'], 'others',inplace=True)\n",
    "df_test['geoNetwork.city'].fillna('others', inplace=True)"
   ]
  },
  {
   "cell_type": "code",
   "execution_count": 53,
   "metadata": {},
   "outputs": [],
   "source": [
    "df_train['geoNetwork.networkDomain'].replace(['nan','NaN','(not set)'], 'others',inplace=True)\n",
    "df_train['geoNetwork.networkDomain'].fillna('others', inplace=True)\n",
    "df_test['geoNetwork.networkDomain'].replace(['nan','NaN','(not set)'], 'others',inplace=True)\n",
    "df_test['geoNetwork.networkDomain'].fillna('others', inplace=True)"
   ]
  },
  {
   "cell_type": "markdown",
   "metadata": {},
   "source": [
    "**Convert all the null , not set and some miscelleanous values to a new category \"others\", so it will easy to treat them further**"
   ]
  },
  {
   "cell_type": "code",
   "execution_count": 60,
   "metadata": {},
   "outputs": [
    {
     "data": {
      "text/plain": [
       "visitNumber                        0\n",
       "visitId                            0\n",
       "visitStartTime                     0\n",
       "date                               0\n",
       "totals.hits                        0\n",
       "totals.pageviews                   0\n",
       "totals.timeOnSite                  0\n",
       "totals.transactions                0\n",
       "totals.transactionRevenue          0\n",
       "totals.sessionQualityDim           0\n",
       "trafficSource.referralPath    569298\n",
       "trafficSource.campaign             0\n",
       "trafficSource.source               0\n",
       "trafficSource.medium               0\n",
       "trafficSource.keyword              0\n",
       "trafficSource.adContent       887240\n",
       "device.browser                     0\n",
       "device.operatingSystem             0\n",
       "device.isMobile                    0\n",
       "device.deviceCategory              0\n",
       "geoNetwork.continent               0\n",
       "geoNetwork.subContinent            0\n",
       "geoNetwork.country                 0\n",
       "geoNetwork.region                  0\n",
       "geoNetwork.metro                   0\n",
       "geoNetwork.city                    0\n",
       "geoNetwork.networkDomain           0\n",
       "fullVisitorId                      0\n",
       "channelGrouping                71814\n",
       "dtype: int64"
      ]
     },
     "execution_count": 60,
     "metadata": {},
     "output_type": "execute_result"
    }
   ],
   "source": [
    "df_train.isnull().sum()"
   ]
  },
  {
   "cell_type": "markdown",
   "metadata": {},
   "source": [
    "### Label Encoding for Categorical Columns"
   ]
  },
  {
   "cell_type": "code",
   "execution_count": 64,
   "metadata": {},
   "outputs": [
    {
     "name": "stdout",
     "output_type": "stream",
     "text": [
      "for this feature : channelGrouping label-encoding was done succesfully\n",
      "for this feature : device.browser label-encoding was done succesfully\n",
      "for this feature : device.operatingSystem label-encoding was done succesfully\n",
      "for this feature : device.deviceCategory label-encoding was done succesfully\n",
      "for this feature : geoNetwork.continent label-encoding was done succesfully\n",
      "for this feature : geoNetwork.subContinent label-encoding was done succesfully\n",
      "for this feature : geoNetwork.country label-encoding was done succesfully\n",
      "for this feature : geoNetwork.region label-encoding was done succesfully\n",
      "for this feature : geoNetwork.metro label-encoding was done succesfully\n",
      "for this feature : geoNetwork.city label-encoding was done succesfully\n",
      "for this feature : geoNetwork.networkDomain label-encoding was done succesfully\n",
      "for this feature : totals.sessionQualityDim label-encoding was done succesfully\n",
      "for this feature : trafficSource.campaign label-encoding was done succesfully\n",
      "for this feature : trafficSource.source label-encoding was done succesfully\n",
      "for this feature : trafficSource.medium label-encoding was done succesfully\n",
      "for this feature : trafficSource.keyword label-encoding was done succesfully\n",
      "for this feature : trafficSource.adContent label-encoding was done succesfully\n"
     ]
    }
   ],
   "source": [
    "categorical_feat = ['channelGrouping','device.browser','device.operatingSystem','device.deviceCategory',\\\n",
    "'geoNetwork.continent','geoNetwork.subContinent','geoNetwork.country','geoNetwork.region','geoNetwork.metro',\\\n",
    "'geoNetwork.city','geoNetwork.networkDomain','totals.sessionQualityDim','trafficSource.campaign','trafficSource.source',\\\n",
    "'trafficSource.medium','trafficSource.keyword', 'trafficSource.adContent']\n",
    "\n",
    "for feature in categorical_feat:\n",
    "    \n",
    "    label_encoder = preprocessing.LabelEncoder() # intitalizing label encoder object\n",
    "    \n",
    "    label_encoder.fit(list(df_train[feature].values.astype('str')) + list(df_test[feature].values.astype('str')))\n",
    "                                                             # fit with list of variables in that feature\n",
    "    \n",
    "    df_train[feature] = label_encoder.transform(list(df_train[feature].values.astype('str'))) # transforming that feature\n",
    "    df_test[feature]  = label_encoder.transform(list(df_test[feature].values.astype('str')))\n",
    "    print(\"for this feature : {0} label-encoding was done succesfully\".format(feature))"
   ]
  },
  {
   "cell_type": "markdown",
   "metadata": {},
   "source": [
    "#### LabelEncoding of referral path is not done as it gives memory error, so it better to drop that column"
   ]
  },
  {
   "cell_type": "code",
   "execution_count": 72,
   "metadata": {},
   "outputs": [],
   "source": [
    "df_train.drop(['trafficSource.referralPath'],axis=1,inplace=True)\n",
    "df_test.drop(['trafficSource.referralPath'],axis=1,inplace=True)"
   ]
  },
  {
   "cell_type": "markdown",
   "metadata": {},
   "source": [
    "### MinMax Scaler for numeric columns"
   ]
  },
  {
   "cell_type": "code",
   "execution_count": 80,
   "metadata": {},
   "outputs": [],
   "source": [
    "# from sklearn.preprocessing import MinMaxScaler"
   ]
  },
  {
   "cell_type": "code",
   "execution_count": 79,
   "metadata": {},
   "outputs": [],
   "source": [
    "# scaling=MinMaxScaler()\n",
    "# df_train[['visitNumber', 'visitId', 'visitStartTime', 'date', 'totals.hits','totals.pageviews', 'totals.timeOnSite', 'totals.transactions',\n",
    "#        'totals.transactionRevenue']]=scaling.fit_transform(df_train[['visitNumber', 'visitId', 'visitStartTime', 'date', 'totals.hits',\n",
    "#        'totals.pageviews', 'totals.timeOnSite', 'totals.transactions','totals.transactionRevenue']])\n",
    "\n",
    "# df_test[['visitNumber', 'visitId', 'visitStartTime', 'date', 'totals.hits','totals.pageviews', 'totals.timeOnSite', 'totals.transactions',\n",
    "#        'totals.transactionRevenue']]=scaling.fit_transform(df_test[['visitNumber', 'visitId', 'visitStartTime', 'date', 'totals.hits',\n",
    "#        'totals.pageviews', 'totals.timeOnSite', 'totals.transactions','totals.transactionRevenue']])"
   ]
  },
  {
   "cell_type": "code",
   "execution_count": 84,
   "metadata": {},
   "outputs": [],
   "source": [
    "# storing all label encoded data into fiels:\n",
    "df_train.to_csv('case study data/labelencoded_train_df.csv')\n",
    "df_test.to_csv('case study data/labelencoded_test_df.csv')"
   ]
  },
  {
   "cell_type": "code",
   "execution_count": 86,
   "metadata": {},
   "outputs": [],
   "source": [
    "# reading all label encoded data from fiels:\n",
    "\n",
    "df_train = pd.read_csv('case study data/labelencoded_train_df.csv',dtype={'fullVisitorId': 'str'},index_col=0)\n",
    "df_test = pd.read_csv('case study data/labelencoded_test_df.csv',dtype={'fullVisitorId': 'str'},index_col=0)"
   ]
  },
  {
   "cell_type": "code",
   "execution_count": 89,
   "metadata": {},
   "outputs": [
    {
     "name": "stdout",
     "output_type": "stream",
     "text": [
      "<class 'pandas.core.frame.DataFrame'>\n",
      "Int64Index: 898309 entries, 0 to 898308\n",
      "Data columns (total 28 columns):\n",
      " #   Column                     Non-Null Count   Dtype  \n",
      "---  ------                     --------------   -----  \n",
      " 0   visitNumber                898309 non-null  float64\n",
      " 1   visitId                    898309 non-null  float64\n",
      " 2   visitStartTime             898309 non-null  float64\n",
      " 3   date                       898309 non-null  float64\n",
      " 4   totals.hits                898309 non-null  float64\n",
      " 5   totals.pageviews           898309 non-null  float64\n",
      " 6   totals.timeOnSite          898309 non-null  float64\n",
      " 7   totals.transactions        898309 non-null  float64\n",
      " 8   totals.transactionRevenue  898309 non-null  float64\n",
      " 9   totals.sessionQualityDim   898309 non-null  int64  \n",
      " 10  trafficSource.campaign     898309 non-null  int64  \n",
      " 11  trafficSource.source       898309 non-null  int64  \n",
      " 12  trafficSource.medium       898309 non-null  int64  \n",
      " 13  trafficSource.keyword      898309 non-null  int64  \n",
      " 14  trafficSource.adContent    898309 non-null  int64  \n",
      " 15  device.browser             898309 non-null  int64  \n",
      " 16  device.operatingSystem     898309 non-null  int64  \n",
      " 17  device.isMobile            898309 non-null  bool   \n",
      " 18  device.deviceCategory      898309 non-null  int64  \n",
      " 19  geoNetwork.continent       898309 non-null  int64  \n",
      " 20  geoNetwork.subContinent    898309 non-null  int64  \n",
      " 21  geoNetwork.country         898309 non-null  int64  \n",
      " 22  geoNetwork.region          898309 non-null  int64  \n",
      " 23  geoNetwork.metro           898309 non-null  int64  \n",
      " 24  geoNetwork.city            898309 non-null  int64  \n",
      " 25  geoNetwork.networkDomain   898309 non-null  int64  \n",
      " 26  fullVisitorId              898309 non-null  object \n",
      " 27  channelGrouping            898309 non-null  int64  \n",
      "dtypes: bool(1), float64(9), int64(17), object(1)\n",
      "memory usage: 192.8+ MB\n"
     ]
    }
   ],
   "source": [
    "df_train.info()"
   ]
  },
  {
   "cell_type": "code",
   "execution_count": null,
   "metadata": {},
   "outputs": [],
   "source": []
  }
 ],
 "metadata": {
  "kernelspec": {
   "display_name": "Python 3",
   "language": "python",
   "name": "python3"
  },
  "language_info": {
   "codemirror_mode": {
    "name": "ipython",
    "version": 3
   },
   "file_extension": ".py",
   "mimetype": "text/x-python",
   "name": "python",
   "nbconvert_exporter": "python",
   "pygments_lexer": "ipython3",
   "version": "3.7.4"
  }
 },
 "nbformat": 4,
 "nbformat_minor": 4
}
