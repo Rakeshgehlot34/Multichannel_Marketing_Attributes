{
 "cells": [
  {
   "cell_type": "code",
   "execution_count": 3,
   "metadata": {
    "id": "Ob-GfAYxvgNc"
   },
   "outputs": [],
   "source": [
    "from google.cloud import bigquery"
   ]
  },
  {
   "cell_type": "code",
   "execution_count": 2,
   "metadata": {},
   "outputs": [
    {
     "name": "stdout",
     "output_type": "stream",
     "text": [
      "Collecting google-cloud-bigquery\n",
      "  Downloading https://files.pythonhosted.org/packages/f6/4b/bbc0b268d50a8aec06aa8302b41f9d61c0c8603d16f25ddf7e9542d6b5a1/google_cloud_bigquery-2.20.0-py2.py3-none-any.whl (189kB)\n",
      "Requirement already satisfied, skipping upgrade: requests<3.0.0dev,>=2.18.0 in c:\\users\\hp\\anaconda3\\lib\\site-packages (from google-cloud-bigquery) (2.22.0)\n",
      "Collecting google-cloud-core<2.0dev,>=1.4.1 (from google-cloud-bigquery)\n",
      "  Downloading https://files.pythonhosted.org/packages/ad/fc/6e8c449185cb8862af353c1164100ff75e32d55ba1de3baf9eaa01b7d2a9/google_cloud_core-1.6.0-py2.py3-none-any.whl\n",
      "Collecting proto-plus>=1.10.0 (from google-cloud-bigquery)\n",
      "  Downloading https://files.pythonhosted.org/packages/b4/8a/61c5a9b9b6288f9b060b6e3d88374fc083953a29aeac7206616c2d3c9c8e/proto_plus-1.18.1-py3-none-any.whl (42kB)\n",
      "Collecting google-resumable-media<2.0dev,>=0.6.0 (from google-cloud-bigquery)\n",
      "  Downloading https://files.pythonhosted.org/packages/f9/ad/bc80b0b33ccb5e21375ca1440da9dab99596948d5035e2f597fdcffb31f1/google_resumable_media-1.3.0-py2.py3-none-any.whl (75kB)\n",
      "Collecting google-api-core[grpc]<2.0.0dev,>=1.29.0 (from google-cloud-bigquery)\n",
      "  Downloading https://files.pythonhosted.org/packages/f6/72/6dc3c3c4576fedc409fd825bf71e22d0f448bd68143c79cdbd6216744282/google_api_core-1.30.0-py2.py3-none-any.whl (93kB)\n",
      "Requirement already satisfied, skipping upgrade: packaging>=14.3 in c:\\users\\hp\\anaconda3\\lib\\site-packages (from google-cloud-bigquery) (19.0)\n",
      "Requirement already satisfied, skipping upgrade: protobuf>=3.12.0 in c:\\users\\hp\\anaconda3\\lib\\site-packages (from google-cloud-bigquery) (3.12.2)\n",
      "Requirement already satisfied, skipping upgrade: idna<2.9,>=2.5 in c:\\users\\hp\\anaconda3\\lib\\site-packages (from requests<3.0.0dev,>=2.18.0->google-cloud-bigquery) (2.8)\n",
      "Requirement already satisfied, skipping upgrade: chardet<3.1.0,>=3.0.2 in c:\\users\\hp\\anaconda3\\lib\\site-packages (from requests<3.0.0dev,>=2.18.0->google-cloud-bigquery) (3.0.4)\n",
      "Requirement already satisfied, skipping upgrade: urllib3!=1.25.0,!=1.25.1,<1.26,>=1.21.1 in c:\\users\\hp\\anaconda3\\lib\\site-packages (from requests<3.0.0dev,>=2.18.0->google-cloud-bigquery) (1.24.2)\n",
      "Requirement already satisfied, skipping upgrade: certifi>=2017.4.17 in c:\\users\\hp\\anaconda3\\lib\\site-packages (from requests<3.0.0dev,>=2.18.0->google-cloud-bigquery) (2019.6.16)\n",
      "Collecting google-auth<2.0dev,>=1.24.0 (from google-cloud-core<2.0dev,>=1.4.1->google-cloud-bigquery)\n",
      "  Downloading https://files.pythonhosted.org/packages/96/21/bfde897baf6f0df050205a23bbfd9dcbedcac522b22eb9382d29e39fdd15/google_auth-1.30.2-py2.py3-none-any.whl (146kB)\n",
      "Requirement already satisfied, skipping upgrade: six>=1.12.0 in c:\\users\\hp\\anaconda3\\lib\\site-packages (from google-cloud-core<2.0dev,>=1.4.1->google-cloud-bigquery) (1.12.0)\n",
      "Collecting google-crc32c<2.0dev,>=1.0; python_version >= \"3.5\" (from google-resumable-media<2.0dev,>=0.6.0->google-cloud-bigquery)\n",
      "  Downloading https://files.pythonhosted.org/packages/e9/c7/08433c1f824edd7eb5356f0cbea67162084955d42652861de61f47af8c67/google_crc32c-1.1.2-cp37-cp37m-win_amd64.whl\n",
      "Requirement already satisfied, skipping upgrade: setuptools>=40.3.0 in c:\\users\\hp\\anaconda3\\lib\\site-packages (from google-api-core[grpc]<2.0.0dev,>=1.29.0->google-cloud-bigquery) (57.0.0)\n",
      "Collecting googleapis-common-protos<2.0dev,>=1.6.0 (from google-api-core[grpc]<2.0.0dev,>=1.29.0->google-cloud-bigquery)\n",
      "  Downloading https://files.pythonhosted.org/packages/55/08/796a6bc0b550e2b7116041c953d3d5100016abea106131d71e5651826e7b/googleapis_common_protos-1.53.0-py2.py3-none-any.whl (198kB)\n",
      "Requirement already satisfied, skipping upgrade: pytz in c:\\users\\hp\\anaconda3\\lib\\site-packages (from google-api-core[grpc]<2.0.0dev,>=1.29.0->google-cloud-bigquery) (2019.1)\n",
      "Requirement already satisfied, skipping upgrade: grpcio<2.0dev,>=1.29.0; extra == \"grpc\" in c:\\users\\hp\\anaconda3\\lib\\site-packages (from google-api-core[grpc]<2.0.0dev,>=1.29.0->google-cloud-bigquery) (1.30.0)\n",
      "Requirement already satisfied, skipping upgrade: pyparsing>=2.0.2 in c:\\users\\hp\\anaconda3\\lib\\site-packages (from packaging>=14.3->google-cloud-bigquery) (2.4.0)\n",
      "Requirement already satisfied, skipping upgrade: rsa<5,>=3.1.4; python_version >= \"3.6\" in c:\\users\\hp\\anaconda3\\lib\\site-packages (from google-auth<2.0dev,>=1.24.0->google-cloud-core<2.0dev,>=1.4.1->google-cloud-bigquery) (4.6)\n",
      "Requirement already satisfied, skipping upgrade: cachetools<5.0,>=2.0.0 in c:\\users\\hp\\anaconda3\\lib\\site-packages (from google-auth<2.0dev,>=1.24.0->google-cloud-core<2.0dev,>=1.4.1->google-cloud-bigquery) (4.1.0)\n",
      "Requirement already satisfied, skipping upgrade: pyasn1-modules>=0.2.1 in c:\\users\\hp\\anaconda3\\lib\\site-packages (from google-auth<2.0dev,>=1.24.0->google-cloud-core<2.0dev,>=1.4.1->google-cloud-bigquery) (0.2.8)\n",
      "Requirement already satisfied, skipping upgrade: cffi>=1.0.0 in c:\\users\\hp\\anaconda3\\lib\\site-packages (from google-crc32c<2.0dev,>=1.0; python_version >= \"3.5\"->google-resumable-media<2.0dev,>=0.6.0->google-cloud-bigquery) (1.12.3)\n",
      "Requirement already satisfied, skipping upgrade: pyasn1>=0.1.3 in c:\\users\\hp\\anaconda3\\lib\\site-packages (from rsa<5,>=3.1.4; python_version >= \"3.6\"->google-auth<2.0dev,>=1.24.0->google-cloud-core<2.0dev,>=1.4.1->google-cloud-bigquery) (0.4.8)\n",
      "Requirement already satisfied, skipping upgrade: pycparser in c:\\users\\hp\\anaconda3\\lib\\site-packages (from cffi>=1.0.0->google-crc32c<2.0dev,>=1.0; python_version >= \"3.5\"->google-resumable-media<2.0dev,>=0.6.0->google-cloud-bigquery) (2.19)\n",
      "Installing collected packages: googleapis-common-protos, google-auth, google-api-core, google-cloud-core, proto-plus, google-crc32c, google-resumable-media, google-cloud-bigquery\n",
      "  Found existing installation: google-auth 1.18.0\n",
      "    Uninstalling google-auth-1.18.0:\n",
      "      Successfully uninstalled google-auth-1.18.0\n",
      "Successfully installed google-api-core-1.30.0 google-auth-1.30.2 google-cloud-bigquery-2.20.0 google-cloud-core-1.6.0 google-crc32c-1.1.2 google-resumable-media-1.3.0 googleapis-common-protos-1.53.0 proto-plus-1.18.1\n"
     ]
    },
    {
     "name": "stderr",
     "output_type": "stream",
     "text": [
      "ERROR: google-api-core 1.30.0 has requirement six>=1.13.0, but you'll have six 1.12.0 which is incompatible.\n"
     ]
    }
   ],
   "source": [
    "!pip install --upgrade google-cloud-bigquery"
   ]
  },
  {
   "cell_type": "code",
   "execution_count": 4,
   "metadata": {
    "id": "k-GL8g0pxuEv"
   },
   "outputs": [],
   "source": [
    "import os\n",
    "os.environ[\"GOOGLE_APPLICATION_CREDENTIALS\"]=\"D:/multichannel-attribution-dc955547de5a.json\""
   ]
  },
  {
   "cell_type": "code",
   "execution_count": 5,
   "metadata": {
    "id": "5SLDM1Kix9OU"
   },
   "outputs": [],
   "source": [
    "client = bigquery.Client()"
   ]
  },
  {
   "cell_type": "code",
   "execution_count": 6,
   "metadata": {
    "id": "CreNxJa_yBet"
   },
   "outputs": [],
   "source": [
    "dataset_ref = client.dataset('google_analytics_sample', project='bigquery-public-data')"
   ]
  },
  {
   "cell_type": "code",
   "execution_count": 7,
   "metadata": {
    "colab": {
     "base_uri": "https://localhost:8080/"
    },
    "id": "vzhv1okCyE9a",
    "outputId": "72b7056f-ff57-4f49-9fc1-353df72591b0"
   },
   "outputs": [
    {
     "name": "stdout",
     "output_type": "stream",
     "text": [
      "DatasetReference('bigquery-public-data', 'google_analytics_sample')\n"
     ]
    }
   ],
   "source": [
    "print(dataset_ref)"
   ]
  },
  {
   "cell_type": "code",
   "execution_count": 8,
   "metadata": {
    "id": "Vyh7Ve15zLPT"
   },
   "outputs": [],
   "source": [
    "\n",
    "# Fetch the dataset\n",
    "dataset = client.get_dataset(dataset_ref)"
   ]
  },
  {
   "cell_type": "code",
   "execution_count": 9,
   "metadata": {
    "colab": {
     "base_uri": "https://localhost:8080/"
    },
    "id": "ubTLI9-P0evu",
    "outputId": "cd2a4a72-8542-479c-facc-28b9ffbb79e0"
   },
   "outputs": [
    {
     "data": {
      "text/plain": [
       "['ga_sessions_20160801',\n",
       " 'ga_sessions_20160802',\n",
       " 'ga_sessions_20160803',\n",
       " 'ga_sessions_20160804',\n",
       " 'ga_sessions_20160805',\n",
       " 'ga_sessions_20160806',\n",
       " 'ga_sessions_20160807',\n",
       " 'ga_sessions_20160808',\n",
       " 'ga_sessions_20160809',\n",
       " 'ga_sessions_20160810',\n",
       " 'ga_sessions_20160811',\n",
       " 'ga_sessions_20160812',\n",
       " 'ga_sessions_20160813',\n",
       " 'ga_sessions_20160814',\n",
       " 'ga_sessions_20160815',\n",
       " 'ga_sessions_20160816',\n",
       " 'ga_sessions_20160817',\n",
       " 'ga_sessions_20160818',\n",
       " 'ga_sessions_20160819',\n",
       " 'ga_sessions_20160820',\n",
       " 'ga_sessions_20160821',\n",
       " 'ga_sessions_20160822',\n",
       " 'ga_sessions_20160823',\n",
       " 'ga_sessions_20160824',\n",
       " 'ga_sessions_20160825',\n",
       " 'ga_sessions_20160826',\n",
       " 'ga_sessions_20160827',\n",
       " 'ga_sessions_20160828',\n",
       " 'ga_sessions_20160829',\n",
       " 'ga_sessions_20160830',\n",
       " 'ga_sessions_20160831',\n",
       " 'ga_sessions_20160901',\n",
       " 'ga_sessions_20160902',\n",
       " 'ga_sessions_20160903',\n",
       " 'ga_sessions_20160904',\n",
       " 'ga_sessions_20160905',\n",
       " 'ga_sessions_20160906',\n",
       " 'ga_sessions_20160907',\n",
       " 'ga_sessions_20160908',\n",
       " 'ga_sessions_20160909',\n",
       " 'ga_sessions_20160910',\n",
       " 'ga_sessions_20160911',\n",
       " 'ga_sessions_20160912',\n",
       " 'ga_sessions_20160913',\n",
       " 'ga_sessions_20160914',\n",
       " 'ga_sessions_20160915',\n",
       " 'ga_sessions_20160916',\n",
       " 'ga_sessions_20160917',\n",
       " 'ga_sessions_20160918',\n",
       " 'ga_sessions_20160919',\n",
       " 'ga_sessions_20160920',\n",
       " 'ga_sessions_20160921',\n",
       " 'ga_sessions_20160922',\n",
       " 'ga_sessions_20160923',\n",
       " 'ga_sessions_20160924',\n",
       " 'ga_sessions_20160925',\n",
       " 'ga_sessions_20160926',\n",
       " 'ga_sessions_20160927',\n",
       " 'ga_sessions_20160928',\n",
       " 'ga_sessions_20160929',\n",
       " 'ga_sessions_20160930',\n",
       " 'ga_sessions_20161001',\n",
       " 'ga_sessions_20161002',\n",
       " 'ga_sessions_20161003',\n",
       " 'ga_sessions_20161004',\n",
       " 'ga_sessions_20161005',\n",
       " 'ga_sessions_20161006',\n",
       " 'ga_sessions_20161007',\n",
       " 'ga_sessions_20161008',\n",
       " 'ga_sessions_20161009',\n",
       " 'ga_sessions_20161010',\n",
       " 'ga_sessions_20161011',\n",
       " 'ga_sessions_20161012',\n",
       " 'ga_sessions_20161013',\n",
       " 'ga_sessions_20161014',\n",
       " 'ga_sessions_20161015',\n",
       " 'ga_sessions_20161016',\n",
       " 'ga_sessions_20161017',\n",
       " 'ga_sessions_20161018',\n",
       " 'ga_sessions_20161019',\n",
       " 'ga_sessions_20161020',\n",
       " 'ga_sessions_20161021',\n",
       " 'ga_sessions_20161022',\n",
       " 'ga_sessions_20161023',\n",
       " 'ga_sessions_20161024',\n",
       " 'ga_sessions_20161025',\n",
       " 'ga_sessions_20161026',\n",
       " 'ga_sessions_20161027',\n",
       " 'ga_sessions_20161028',\n",
       " 'ga_sessions_20161029',\n",
       " 'ga_sessions_20161030',\n",
       " 'ga_sessions_20161031',\n",
       " 'ga_sessions_20161101',\n",
       " 'ga_sessions_20161102',\n",
       " 'ga_sessions_20161103',\n",
       " 'ga_sessions_20161104',\n",
       " 'ga_sessions_20161105',\n",
       " 'ga_sessions_20161106',\n",
       " 'ga_sessions_20161107',\n",
       " 'ga_sessions_20161108',\n",
       " 'ga_sessions_20161109',\n",
       " 'ga_sessions_20161110',\n",
       " 'ga_sessions_20161111',\n",
       " 'ga_sessions_20161112',\n",
       " 'ga_sessions_20161113',\n",
       " 'ga_sessions_20161114',\n",
       " 'ga_sessions_20161115',\n",
       " 'ga_sessions_20161116',\n",
       " 'ga_sessions_20161117',\n",
       " 'ga_sessions_20161118',\n",
       " 'ga_sessions_20161119',\n",
       " 'ga_sessions_20161120',\n",
       " 'ga_sessions_20161121',\n",
       " 'ga_sessions_20161122',\n",
       " 'ga_sessions_20161123',\n",
       " 'ga_sessions_20161124',\n",
       " 'ga_sessions_20161125',\n",
       " 'ga_sessions_20161126',\n",
       " 'ga_sessions_20161127',\n",
       " 'ga_sessions_20161128',\n",
       " 'ga_sessions_20161129',\n",
       " 'ga_sessions_20161130',\n",
       " 'ga_sessions_20161201',\n",
       " 'ga_sessions_20161202',\n",
       " 'ga_sessions_20161203',\n",
       " 'ga_sessions_20161204',\n",
       " 'ga_sessions_20161205',\n",
       " 'ga_sessions_20161206',\n",
       " 'ga_sessions_20161207',\n",
       " 'ga_sessions_20161208',\n",
       " 'ga_sessions_20161209',\n",
       " 'ga_sessions_20161210',\n",
       " 'ga_sessions_20161211',\n",
       " 'ga_sessions_20161212',\n",
       " 'ga_sessions_20161213',\n",
       " 'ga_sessions_20161214',\n",
       " 'ga_sessions_20161215',\n",
       " 'ga_sessions_20161216',\n",
       " 'ga_sessions_20161217',\n",
       " 'ga_sessions_20161218',\n",
       " 'ga_sessions_20161219',\n",
       " 'ga_sessions_20161220',\n",
       " 'ga_sessions_20161221',\n",
       " 'ga_sessions_20161222',\n",
       " 'ga_sessions_20161223',\n",
       " 'ga_sessions_20161224',\n",
       " 'ga_sessions_20161225',\n",
       " 'ga_sessions_20161226',\n",
       " 'ga_sessions_20161227',\n",
       " 'ga_sessions_20161228',\n",
       " 'ga_sessions_20161229',\n",
       " 'ga_sessions_20161230',\n",
       " 'ga_sessions_20161231',\n",
       " 'ga_sessions_20170101',\n",
       " 'ga_sessions_20170102',\n",
       " 'ga_sessions_20170103',\n",
       " 'ga_sessions_20170104',\n",
       " 'ga_sessions_20170105',\n",
       " 'ga_sessions_20170106',\n",
       " 'ga_sessions_20170107',\n",
       " 'ga_sessions_20170108',\n",
       " 'ga_sessions_20170109',\n",
       " 'ga_sessions_20170110',\n",
       " 'ga_sessions_20170111',\n",
       " 'ga_sessions_20170112',\n",
       " 'ga_sessions_20170113',\n",
       " 'ga_sessions_20170114',\n",
       " 'ga_sessions_20170115',\n",
       " 'ga_sessions_20170116',\n",
       " 'ga_sessions_20170117',\n",
       " 'ga_sessions_20170118',\n",
       " 'ga_sessions_20170119',\n",
       " 'ga_sessions_20170120',\n",
       " 'ga_sessions_20170121',\n",
       " 'ga_sessions_20170122',\n",
       " 'ga_sessions_20170123',\n",
       " 'ga_sessions_20170124',\n",
       " 'ga_sessions_20170125',\n",
       " 'ga_sessions_20170126',\n",
       " 'ga_sessions_20170127',\n",
       " 'ga_sessions_20170128',\n",
       " 'ga_sessions_20170129',\n",
       " 'ga_sessions_20170130',\n",
       " 'ga_sessions_20170131',\n",
       " 'ga_sessions_20170201',\n",
       " 'ga_sessions_20170202',\n",
       " 'ga_sessions_20170203',\n",
       " 'ga_sessions_20170204',\n",
       " 'ga_sessions_20170205',\n",
       " 'ga_sessions_20170206',\n",
       " 'ga_sessions_20170207',\n",
       " 'ga_sessions_20170208',\n",
       " 'ga_sessions_20170209',\n",
       " 'ga_sessions_20170210',\n",
       " 'ga_sessions_20170211',\n",
       " 'ga_sessions_20170212',\n",
       " 'ga_sessions_20170213',\n",
       " 'ga_sessions_20170214',\n",
       " 'ga_sessions_20170215',\n",
       " 'ga_sessions_20170216',\n",
       " 'ga_sessions_20170217',\n",
       " 'ga_sessions_20170218',\n",
       " 'ga_sessions_20170219',\n",
       " 'ga_sessions_20170220',\n",
       " 'ga_sessions_20170221',\n",
       " 'ga_sessions_20170222',\n",
       " 'ga_sessions_20170223',\n",
       " 'ga_sessions_20170224',\n",
       " 'ga_sessions_20170225',\n",
       " 'ga_sessions_20170226',\n",
       " 'ga_sessions_20170227',\n",
       " 'ga_sessions_20170228',\n",
       " 'ga_sessions_20170301',\n",
       " 'ga_sessions_20170302',\n",
       " 'ga_sessions_20170303',\n",
       " 'ga_sessions_20170304',\n",
       " 'ga_sessions_20170305',\n",
       " 'ga_sessions_20170306',\n",
       " 'ga_sessions_20170307',\n",
       " 'ga_sessions_20170308',\n",
       " 'ga_sessions_20170309',\n",
       " 'ga_sessions_20170310',\n",
       " 'ga_sessions_20170311',\n",
       " 'ga_sessions_20170312',\n",
       " 'ga_sessions_20170313',\n",
       " 'ga_sessions_20170314',\n",
       " 'ga_sessions_20170315',\n",
       " 'ga_sessions_20170316',\n",
       " 'ga_sessions_20170317',\n",
       " 'ga_sessions_20170318',\n",
       " 'ga_sessions_20170319',\n",
       " 'ga_sessions_20170320',\n",
       " 'ga_sessions_20170321',\n",
       " 'ga_sessions_20170322',\n",
       " 'ga_sessions_20170323',\n",
       " 'ga_sessions_20170324',\n",
       " 'ga_sessions_20170325',\n",
       " 'ga_sessions_20170326',\n",
       " 'ga_sessions_20170327',\n",
       " 'ga_sessions_20170328',\n",
       " 'ga_sessions_20170329',\n",
       " 'ga_sessions_20170330',\n",
       " 'ga_sessions_20170331',\n",
       " 'ga_sessions_20170401',\n",
       " 'ga_sessions_20170402',\n",
       " 'ga_sessions_20170403',\n",
       " 'ga_sessions_20170404',\n",
       " 'ga_sessions_20170405',\n",
       " 'ga_sessions_20170406',\n",
       " 'ga_sessions_20170407',\n",
       " 'ga_sessions_20170408',\n",
       " 'ga_sessions_20170409',\n",
       " 'ga_sessions_20170410',\n",
       " 'ga_sessions_20170411',\n",
       " 'ga_sessions_20170412',\n",
       " 'ga_sessions_20170413',\n",
       " 'ga_sessions_20170414',\n",
       " 'ga_sessions_20170415',\n",
       " 'ga_sessions_20170416',\n",
       " 'ga_sessions_20170417',\n",
       " 'ga_sessions_20170418',\n",
       " 'ga_sessions_20170419',\n",
       " 'ga_sessions_20170420',\n",
       " 'ga_sessions_20170421',\n",
       " 'ga_sessions_20170422',\n",
       " 'ga_sessions_20170423',\n",
       " 'ga_sessions_20170424',\n",
       " 'ga_sessions_20170425',\n",
       " 'ga_sessions_20170426',\n",
       " 'ga_sessions_20170427',\n",
       " 'ga_sessions_20170428',\n",
       " 'ga_sessions_20170429',\n",
       " 'ga_sessions_20170430',\n",
       " 'ga_sessions_20170501',\n",
       " 'ga_sessions_20170502',\n",
       " 'ga_sessions_20170503',\n",
       " 'ga_sessions_20170504',\n",
       " 'ga_sessions_20170505',\n",
       " 'ga_sessions_20170506',\n",
       " 'ga_sessions_20170507',\n",
       " 'ga_sessions_20170508',\n",
       " 'ga_sessions_20170509',\n",
       " 'ga_sessions_20170510',\n",
       " 'ga_sessions_20170511',\n",
       " 'ga_sessions_20170512',\n",
       " 'ga_sessions_20170513',\n",
       " 'ga_sessions_20170514',\n",
       " 'ga_sessions_20170515',\n",
       " 'ga_sessions_20170516',\n",
       " 'ga_sessions_20170517',\n",
       " 'ga_sessions_20170518',\n",
       " 'ga_sessions_20170519',\n",
       " 'ga_sessions_20170520',\n",
       " 'ga_sessions_20170521',\n",
       " 'ga_sessions_20170522',\n",
       " 'ga_sessions_20170523',\n",
       " 'ga_sessions_20170524',\n",
       " 'ga_sessions_20170525',\n",
       " 'ga_sessions_20170526',\n",
       " 'ga_sessions_20170527',\n",
       " 'ga_sessions_20170528',\n",
       " 'ga_sessions_20170529',\n",
       " 'ga_sessions_20170530',\n",
       " 'ga_sessions_20170531',\n",
       " 'ga_sessions_20170601',\n",
       " 'ga_sessions_20170602',\n",
       " 'ga_sessions_20170603',\n",
       " 'ga_sessions_20170604',\n",
       " 'ga_sessions_20170605',\n",
       " 'ga_sessions_20170606',\n",
       " 'ga_sessions_20170607',\n",
       " 'ga_sessions_20170608',\n",
       " 'ga_sessions_20170609',\n",
       " 'ga_sessions_20170610',\n",
       " 'ga_sessions_20170611',\n",
       " 'ga_sessions_20170612',\n",
       " 'ga_sessions_20170613',\n",
       " 'ga_sessions_20170614',\n",
       " 'ga_sessions_20170615',\n",
       " 'ga_sessions_20170616',\n",
       " 'ga_sessions_20170617',\n",
       " 'ga_sessions_20170618',\n",
       " 'ga_sessions_20170619',\n",
       " 'ga_sessions_20170620',\n",
       " 'ga_sessions_20170621',\n",
       " 'ga_sessions_20170622',\n",
       " 'ga_sessions_20170623',\n",
       " 'ga_sessions_20170624',\n",
       " 'ga_sessions_20170625',\n",
       " 'ga_sessions_20170626',\n",
       " 'ga_sessions_20170627',\n",
       " 'ga_sessions_20170628',\n",
       " 'ga_sessions_20170629',\n",
       " 'ga_sessions_20170630',\n",
       " 'ga_sessions_20170701',\n",
       " 'ga_sessions_20170702',\n",
       " 'ga_sessions_20170703',\n",
       " 'ga_sessions_20170704',\n",
       " 'ga_sessions_20170705',\n",
       " 'ga_sessions_20170706',\n",
       " 'ga_sessions_20170707',\n",
       " 'ga_sessions_20170708',\n",
       " 'ga_sessions_20170709',\n",
       " 'ga_sessions_20170710',\n",
       " 'ga_sessions_20170711',\n",
       " 'ga_sessions_20170712',\n",
       " 'ga_sessions_20170713',\n",
       " 'ga_sessions_20170714',\n",
       " 'ga_sessions_20170715',\n",
       " 'ga_sessions_20170716',\n",
       " 'ga_sessions_20170717',\n",
       " 'ga_sessions_20170718',\n",
       " 'ga_sessions_20170719',\n",
       " 'ga_sessions_20170720',\n",
       " 'ga_sessions_20170721',\n",
       " 'ga_sessions_20170722',\n",
       " 'ga_sessions_20170723',\n",
       " 'ga_sessions_20170724',\n",
       " 'ga_sessions_20170725',\n",
       " 'ga_sessions_20170726',\n",
       " 'ga_sessions_20170727',\n",
       " 'ga_sessions_20170728',\n",
       " 'ga_sessions_20170729',\n",
       " 'ga_sessions_20170730',\n",
       " 'ga_sessions_20170731',\n",
       " 'ga_sessions_20170801']"
      ]
     },
     "execution_count": 9,
     "metadata": {},
     "output_type": "execute_result"
    }
   ],
   "source": [
    "# Get list of tables\n",
    "tables = client.list_tables(dataset)\n",
    "[x.table_id for x in tables]"
   ]
  },
  {
   "cell_type": "code",
   "execution_count": null,
   "metadata": {},
   "outputs": [],
   "source": [
    "\n"
   ]
  },
  {
   "cell_type": "code",
   "execution_count": 33,
   "metadata": {},
   "outputs": [],
   "source": [
    "import pyarrow"
   ]
  },
  {
   "cell_type": "code",
   "execution_count": 34,
   "metadata": {
    "colab": {
     "base_uri": "https://localhost:8080/",
     "height": 475
    },
    "id": "zRLxhEuD0i6d",
    "outputId": "e2d38c37-382f-4ae6-83a3-569473736627"
   },
   "outputs": [
    {
     "ename": "ValueError",
     "evalue": "The pyarrow library is not installed, please install pyarrow to use the to_arrow() function.",
     "output_type": "error",
     "traceback": [
      "\u001b[1;31m---------------------------------------------------------------------------\u001b[0m",
      "\u001b[1;31mValueError\u001b[0m                                Traceback (most recent call last)",
      "\u001b[1;32m<ipython-input-34-506b4d5f631f>\u001b[0m in \u001b[0;36m<module>\u001b[1;34m\u001b[0m\n\u001b[0;32m      4\u001b[0m \u001b[1;33m\u001b[0m\u001b[0m\n\u001b[0;32m      5\u001b[0m \u001b[1;31m# Use table dataset to list the rows\u001b[0m\u001b[1;33m\u001b[0m\u001b[1;33m\u001b[0m\u001b[1;33m\u001b[0m\u001b[0m\n\u001b[1;32m----> 6\u001b[1;33m \u001b[0mdf_rows\u001b[0m \u001b[1;33m=\u001b[0m \u001b[0mclient\u001b[0m\u001b[1;33m.\u001b[0m\u001b[0mlist_rows\u001b[0m\u001b[1;33m(\u001b[0m\u001b[0mdf\u001b[0m\u001b[1;33m)\u001b[0m\u001b[1;33m.\u001b[0m\u001b[0mto_dataframe\u001b[0m\u001b[1;33m(\u001b[0m\u001b[1;33m)\u001b[0m\u001b[1;33m\u001b[0m\u001b[1;33m\u001b[0m\u001b[0m\n\u001b[0m\u001b[0;32m      7\u001b[0m \u001b[0mdf_rows\u001b[0m\u001b[1;33m.\u001b[0m\u001b[0mhead\u001b[0m\u001b[1;33m(\u001b[0m\u001b[1;33m)\u001b[0m\u001b[1;33m\u001b[0m\u001b[1;33m\u001b[0m\u001b[0m\n",
      "\u001b[1;32m~\\Anaconda3\\lib\\site-packages\\google\\cloud\\bigquery\\table.py\u001b[0m in \u001b[0;36mto_dataframe\u001b[1;34m(self, bqstorage_client, dtypes, progress_bar_type, create_bqstorage_client, date_as_object)\u001b[0m\n\u001b[0;32m   1865\u001b[0m             \u001b[0mprogress_bar_type\u001b[0m\u001b[1;33m=\u001b[0m\u001b[0mprogress_bar_type\u001b[0m\u001b[1;33m,\u001b[0m\u001b[1;33m\u001b[0m\u001b[1;33m\u001b[0m\u001b[0m\n\u001b[0;32m   1866\u001b[0m             \u001b[0mbqstorage_client\u001b[0m\u001b[1;33m=\u001b[0m\u001b[0mbqstorage_client\u001b[0m\u001b[1;33m,\u001b[0m\u001b[1;33m\u001b[0m\u001b[1;33m\u001b[0m\u001b[0m\n\u001b[1;32m-> 1867\u001b[1;33m             \u001b[0mcreate_bqstorage_client\u001b[0m\u001b[1;33m=\u001b[0m\u001b[0mcreate_bqstorage_client\u001b[0m\u001b[1;33m,\u001b[0m\u001b[1;33m\u001b[0m\u001b[1;33m\u001b[0m\u001b[0m\n\u001b[0m\u001b[0;32m   1868\u001b[0m         )\n\u001b[0;32m   1869\u001b[0m \u001b[1;33m\u001b[0m\u001b[0m\n",
      "\u001b[1;32m~\\Anaconda3\\lib\\site-packages\\google\\cloud\\bigquery\\table.py\u001b[0m in \u001b[0;36mto_arrow\u001b[1;34m(self, progress_bar_type, bqstorage_client, create_bqstorage_client)\u001b[0m\n\u001b[0;32m   1660\u001b[0m         \"\"\"\n\u001b[0;32m   1661\u001b[0m         \u001b[1;32mif\u001b[0m \u001b[0mpyarrow\u001b[0m \u001b[1;32mis\u001b[0m \u001b[1;32mNone\u001b[0m\u001b[1;33m:\u001b[0m\u001b[1;33m\u001b[0m\u001b[1;33m\u001b[0m\u001b[0m\n\u001b[1;32m-> 1662\u001b[1;33m             \u001b[1;32mraise\u001b[0m \u001b[0mValueError\u001b[0m\u001b[1;33m(\u001b[0m\u001b[0m_NO_PYARROW_ERROR\u001b[0m\u001b[1;33m)\u001b[0m\u001b[1;33m\u001b[0m\u001b[1;33m\u001b[0m\u001b[0m\n\u001b[0m\u001b[0;32m   1663\u001b[0m \u001b[1;33m\u001b[0m\u001b[0m\n\u001b[0;32m   1664\u001b[0m         \u001b[1;32mif\u001b[0m \u001b[1;32mnot\u001b[0m \u001b[0mself\u001b[0m\u001b[1;33m.\u001b[0m\u001b[0m_validate_bqstorage\u001b[0m\u001b[1;33m(\u001b[0m\u001b[0mbqstorage_client\u001b[0m\u001b[1;33m,\u001b[0m \u001b[0mcreate_bqstorage_client\u001b[0m\u001b[1;33m)\u001b[0m\u001b[1;33m:\u001b[0m\u001b[1;33m\u001b[0m\u001b[1;33m\u001b[0m\u001b[0m\n",
      "\u001b[1;31mValueError\u001b[0m: The pyarrow library is not installed, please install pyarrow to use the to_arrow() function."
     ]
    }
   ],
   "source": [
    "# Fetch the first table as sample table\n",
    "df_ref = dataset_ref.table('ga_sessions_20160801')\n",
    "df = client.get_table(df_ref)\n",
    "\n",
    "# Use table dataset to list the rows\n",
    "df_rows = client.list_rows(df).to_dataframe()\n",
    "df_rows.head()"
   ]
  },
  {
   "cell_type": "code",
   "execution_count": null,
   "metadata": {
    "colab": {
     "base_uri": "https://localhost:8080/"
    },
    "id": "eav3ypig0nbB",
    "outputId": "315ffe58-de81-4d33-e497-f9905a83f354"
   },
   "outputs": [],
   "source": [
    "df_rows.shape"
   ]
  },
  {
   "cell_type": "code",
   "execution_count": null,
   "metadata": {
    "colab": {
     "base_uri": "https://localhost:8080/",
     "height": 203
    },
    "id": "zJnXChNp1GN2",
    "outputId": "1852ff27-ba76-4f49-b2ce-90ad5c13aa1c"
   },
   "outputs": [],
   "source": []
  },
  {
   "cell_type": "code",
   "execution_count": null,
   "metadata": {
    "id": "cjAtVbgv3UeS"
   },
   "outputs": [],
   "source": []
  },
  {
   "cell_type": "code",
   "execution_count": null,
   "metadata": {},
   "outputs": [],
   "source": []
  },
  {
   "cell_type": "code",
   "execution_count": null,
   "metadata": {},
   "outputs": [],
   "source": []
  },
  {
   "cell_type": "code",
   "execution_count": null,
   "metadata": {},
   "outputs": [],
   "source": []
  }
 ],
 "metadata": {
  "colab": {
   "name": "big_query.ipynb",
   "provenance": []
  },
  "kernelspec": {
   "display_name": "Python 3",
   "language": "python",
   "name": "python3"
  },
  "language_info": {
   "codemirror_mode": {
    "name": "ipython",
    "version": 3
   },
   "file_extension": ".py",
   "mimetype": "text/x-python",
   "name": "python",
   "nbconvert_exporter": "python",
   "pygments_lexer": "ipython3",
   "version": "3.7.3"
  }
 },
 "nbformat": 4,
 "nbformat_minor": 1
}
